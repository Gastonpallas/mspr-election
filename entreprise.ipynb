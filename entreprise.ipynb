{
  "cells": [
    {
      "cell_type": "code",
      "execution_count": 7,
      "metadata": {
        "collapsed": true,
        "id": "gJ7yL7QPt-l1"
      },
      "outputs": [],
      "source": [
        "import pandas as pd"
      ]
    },
    {
      "cell_type": "markdown",
      "metadata": {
        "id": "7jDfmumxuh96"
      },
      "source": []
    },
    {
      "cell_type": "code",
      "execution_count": 8,
      "metadata": {
        "colab": {
          "base_uri": "https://localhost:8080/",
          "height": 382
        },
        "id": "2hCQHXK5t-l2",
        "outputId": "42b51265-74db-40fd-ccd8-7a62ea30a75f"
      },
      "outputs": [
        {
          "data": {
            "text/html": [
              "<div>\n",
              "<style scoped>\n",
              "    .dataframe tbody tr th:only-of-type {\n",
              "        vertical-align: middle;\n",
              "    }\n",
              "\n",
              "    .dataframe tbody tr th {\n",
              "        vertical-align: top;\n",
              "    }\n",
              "\n",
              "    .dataframe thead th {\n",
              "        text-align: right;\n",
              "    }\n",
              "</style>\n",
              "<table border=\"1\" class=\"dataframe\">\n",
              "  <thead>\n",
              "    <tr style=\"text-align: right;\">\n",
              "      <th></th>\n",
              "      <th>Code</th>\n",
              "      <th>Département</th>\n",
              "      <th>Nombre de créations d'entreprises</th>\n",
              "      <th>Part de l'industrie (en %)</th>\n",
              "      <th>Part de la construction (en %)</th>\n",
              "      <th>Part du commerce de gros &amp; détail, transports, hébergemnt &amp; restauration (en %)</th>\n",
              "      <th>Part de l’admin. pub., enseign., santé &amp; act. soc. (en %)</th>\n",
              "      <th>Part des autres services (en %)</th>\n",
              "    </tr>\n",
              "  </thead>\n",
              "  <tbody>\n",
              "    <tr>\n",
              "      <th>0</th>\n",
              "      <td>01</td>\n",
              "      <td>Ain</td>\n",
              "      <td>8417.0</td>\n",
              "      <td>7.3</td>\n",
              "      <td>11.6</td>\n",
              "      <td>22.6</td>\n",
              "      <td>9.5</td>\n",
              "      <td>49.0</td>\n",
              "    </tr>\n",
              "    <tr>\n",
              "      <th>1</th>\n",
              "      <td>02</td>\n",
              "      <td>Aisne</td>\n",
              "      <td>4422.0</td>\n",
              "      <td>10.2</td>\n",
              "      <td>8.9</td>\n",
              "      <td>30.0</td>\n",
              "      <td>9.5</td>\n",
              "      <td>41.4</td>\n",
              "    </tr>\n",
              "    <tr>\n",
              "      <th>2</th>\n",
              "      <td>03</td>\n",
              "      <td>Allier</td>\n",
              "      <td>3355.0</td>\n",
              "      <td>10.7</td>\n",
              "      <td>10.0</td>\n",
              "      <td>28.5</td>\n",
              "      <td>9.6</td>\n",
              "      <td>41.3</td>\n",
              "    </tr>\n",
              "    <tr>\n",
              "      <th>3</th>\n",
              "      <td>04</td>\n",
              "      <td>Alpes-de-Haute-Provence</td>\n",
              "      <td>2629.0</td>\n",
              "      <td>7.6</td>\n",
              "      <td>12.4</td>\n",
              "      <td>27.9</td>\n",
              "      <td>9.6</td>\n",
              "      <td>42.5</td>\n",
              "    </tr>\n",
              "    <tr>\n",
              "      <th>4</th>\n",
              "      <td>05</td>\n",
              "      <td>Hautes-Alpes</td>\n",
              "      <td>2484.0</td>\n",
              "      <td>7.1</td>\n",
              "      <td>10.5</td>\n",
              "      <td>22.5</td>\n",
              "      <td>14.4</td>\n",
              "      <td>45.5</td>\n",
              "    </tr>\n",
              "  </tbody>\n",
              "</table>\n",
              "</div>"
            ],
            "text/plain": [
              "  Code              Département  Nombre de créations d'entreprises  \\\n",
              "0   01                      Ain                             8417.0   \n",
              "1   02                    Aisne                             4422.0   \n",
              "2   03                   Allier                             3355.0   \n",
              "3   04  Alpes-de-Haute-Provence                             2629.0   \n",
              "4   05             Hautes-Alpes                             2484.0   \n",
              "\n",
              "   Part de l'industrie (en %)  Part de la construction (en %)  \\\n",
              "0                         7.3                            11.6   \n",
              "1                        10.2                             8.9   \n",
              "2                        10.7                            10.0   \n",
              "3                         7.6                            12.4   \n",
              "4                         7.1                            10.5   \n",
              "\n",
              "   Part du commerce de gros & détail, transports, hébergemnt & restauration (en %)  \\\n",
              "0                                               22.6                                 \n",
              "1                                               30.0                                 \n",
              "2                                               28.5                                 \n",
              "3                                               27.9                                 \n",
              "4                                               22.5                                 \n",
              "\n",
              "   Part de l’admin. pub., enseign., santé & act. soc. (en %)  \\\n",
              "0                                                9.5           \n",
              "1                                                9.5           \n",
              "2                                                9.6           \n",
              "3                                                9.6           \n",
              "4                                               14.4           \n",
              "\n",
              "   Part des autres services (en %)  \n",
              "0                             49.0  \n",
              "1                             41.4  \n",
              "2                             41.3  \n",
              "3                             42.5  \n",
              "4                             45.5  "
            ]
          },
          "execution_count": 8,
          "metadata": {},
          "output_type": "execute_result"
        }
      ],
      "source": [
        "df = pd.read_excel('data/Entreprise.xlsx', skiprows=3)\n",
        "df = df.rename(columns={'Unnamed: 0': 'Code', 'Unnamed: 1': 'Département'})\n",
        "df.head()"
      ]
    },
    {
      "cell_type": "code",
      "execution_count": 9,
      "metadata": {
        "colab": {
          "base_uri": "https://localhost:8080/",
          "height": 424
        },
        "id": "U0-V-rlnt-l3",
        "outputId": "c5e5d1b9-cd3f-4685-f098-857058ced1e7"
      },
      "outputs": [
        {
          "data": {
            "text/html": [
              "<div>\n",
              "<style scoped>\n",
              "    .dataframe tbody tr th:only-of-type {\n",
              "        vertical-align: middle;\n",
              "    }\n",
              "\n",
              "    .dataframe tbody tr th {\n",
              "        vertical-align: top;\n",
              "    }\n",
              "\n",
              "    .dataframe thead th {\n",
              "        text-align: right;\n",
              "    }\n",
              "</style>\n",
              "<table border=\"1\" class=\"dataframe\">\n",
              "  <thead>\n",
              "    <tr style=\"text-align: right;\">\n",
              "      <th></th>\n",
              "      <th>Département</th>\n",
              "      <th>Nombre de créations d'entreprises</th>\n",
              "    </tr>\n",
              "  </thead>\n",
              "  <tbody>\n",
              "    <tr>\n",
              "      <th>0</th>\n",
              "      <td>Ain</td>\n",
              "      <td>8417</td>\n",
              "    </tr>\n",
              "    <tr>\n",
              "      <th>1</th>\n",
              "      <td>Aisne</td>\n",
              "      <td>4422</td>\n",
              "    </tr>\n",
              "    <tr>\n",
              "      <th>2</th>\n",
              "      <td>Allier</td>\n",
              "      <td>3355</td>\n",
              "    </tr>\n",
              "    <tr>\n",
              "      <th>3</th>\n",
              "      <td>Alpes-de-Haute-Provence</td>\n",
              "      <td>2629</td>\n",
              "    </tr>\n",
              "    <tr>\n",
              "      <th>4</th>\n",
              "      <td>Hautes-Alpes</td>\n",
              "      <td>2484</td>\n",
              "    </tr>\n",
              "    <tr>\n",
              "      <th>...</th>\n",
              "      <td>...</td>\n",
              "      <td>...</td>\n",
              "    </tr>\n",
              "    <tr>\n",
              "      <th>91</th>\n",
              "      <td>Essonne</td>\n",
              "      <td>23093</td>\n",
              "    </tr>\n",
              "    <tr>\n",
              "      <th>92</th>\n",
              "      <td>Hauts-de-Seine</td>\n",
              "      <td>36273</td>\n",
              "    </tr>\n",
              "    <tr>\n",
              "      <th>93</th>\n",
              "      <td>Seine-Saint-Denis</td>\n",
              "      <td>38726</td>\n",
              "    </tr>\n",
              "    <tr>\n",
              "      <th>94</th>\n",
              "      <td>Val-de-Marne</td>\n",
              "      <td>28800</td>\n",
              "    </tr>\n",
              "    <tr>\n",
              "      <th>95</th>\n",
              "      <td>Val-d'Oise</td>\n",
              "      <td>23846</td>\n",
              "    </tr>\n",
              "  </tbody>\n",
              "</table>\n",
              "<p>96 rows × 2 columns</p>\n",
              "</div>"
            ],
            "text/plain": [
              "                Département  Nombre de créations d'entreprises\n",
              "0                       Ain                               8417\n",
              "1                     Aisne                               4422\n",
              "2                    Allier                               3355\n",
              "3   Alpes-de-Haute-Provence                               2629\n",
              "4              Hautes-Alpes                               2484\n",
              "..                      ...                                ...\n",
              "91                  Essonne                              23093\n",
              "92           Hauts-de-Seine                              36273\n",
              "93        Seine-Saint-Denis                              38726\n",
              "94             Val-de-Marne                              28800\n",
              "95               Val-d'Oise                              23846\n",
              "\n",
              "[96 rows x 2 columns]"
            ]
          },
          "execution_count": 9,
          "metadata": {},
          "output_type": "execute_result"
        }
      ],
      "source": [
        "df_mean = df[['Département', 'Nombre de créations d\\'entreprises']]\n",
        "df_mean = df_mean[:96]\n",
        "df_mean.isetitem(1, df_mean.iloc[:, 1].astype(int))\n",
        "df_mean"
      ]
    },
    {
      "cell_type": "code",
      "execution_count": 12,
      "metadata": {
        "id": "HMja2nB1t-l3"
      },
      "outputs": [],
      "source": [
        "df_mean.to_csv('data/entreprise_cleaned.csv', index=False, sep=';')"
      ]
    }
  ],
  "metadata": {
    "colab": {
      "provenance": []
    },
    "kernelspec": {
      "display_name": "Python 3",
      "language": "python",
      "name": "python3"
    },
    "language_info": {
      "codemirror_mode": {
        "name": "ipython",
        "version": 3
      },
      "file_extension": ".py",
      "mimetype": "text/x-python",
      "name": "python",
      "nbconvert_exporter": "python",
      "pygments_lexer": "ipython3",
      "version": "3.11.7"
    }
  },
  "nbformat": 4,
  "nbformat_minor": 0
}
