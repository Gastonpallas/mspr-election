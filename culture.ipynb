{
 "cells": [
  {
   "cell_type": "code",
   "execution_count": 31,
   "metadata": {
    "collapsed": true
   },
   "outputs": [],
   "source": [
    "import pandas as pd"
   ]
  },
  {
   "cell_type": "code",
   "execution_count": 32,
   "metadata": {
    "collapsed": false
   },
   "outputs": [
    {
     "name": "stdout",
     "output_type": "stream",
     "text": [
      "<class 'pandas.core.frame.DataFrame'>\n",
      "RangeIndex: 73234 entries, 0 to 73233\n",
      "Data columns (total 47 columns):\n",
      " #   Column                                   Non-Null Count  Dtype  \n",
      "---  ------                                   --------------  -----  \n",
      " 0   source                                   73203 non-null  object \n",
      " 1   nom                                      73234 non-null  object \n",
      " 2   adresse                                  41249 non-null  object \n",
      " 3   complement_adresse                       335 non-null    object \n",
      " 4   code_postal                              72294 non-null  float64\n",
      " 5   libelle_geographique                     73131 non-null  object \n",
      " 6   code_insee                               73233 non-null  object \n",
      " 7   code_insee_arrondt                       73068 non-null  object \n",
      " 8   identifiant_origine                      67285 non-null  object \n",
      " 9   type_equipement_ou_lieu                  73234 non-null  object \n",
      " 10  label_et_appellation                     53885 non-null  object \n",
      " 11  region                                   73162 non-null  object \n",
      " 12  domaine                                  73234 non-null  object \n",
      " 13  sous_domaines                            51561 non-null  object \n",
      " 14  archeologie_detail                       562 non-null    object \n",
      " 15  adresse_postale                          72206 non-null  object \n",
      " 16  departement                              73234 non-null  object \n",
      " 17  precision_equipement                     64702 non-null  object \n",
      " 18  n_departement                            73234 non-null  object \n",
      " 19  n_region                                 73234 non-null  int64  \n",
      " 20  fonction_1                               73227 non-null  object \n",
      " 21  fonction_2                               19687 non-null  object \n",
      " 22  fonction_3                               22 non-null     object \n",
      " 23  fonction_4                               22 non-null     object \n",
      " 24  multiplexe                               2116 non-null   object \n",
      " 25  type_de_cinema                           2140 non-null   object \n",
      " 26  nombre_fauteuils_de_cinema               2140 non-null   float64\n",
      " 27  nombre_ecrans                            2140 non-null   float64\n",
      " 28  nombre_de_salles_de_theatre              1040 non-null   float64\n",
      " 29  organisme_siege_du_theatre               264 non-null    object \n",
      " 30  jauge_du_theatre                         981 non-null    float64\n",
      " 31  code_du_reseau_de_bibliotheques          15540 non-null  object \n",
      " 32  nom_du_reseau_de_bibliotheques           15529 non-null  object \n",
      " 33  nom_de_l_illustre                        245 non-null    object \n",
      " 34  surface_bibliotheque                     14223 non-null  object \n",
      " 35  coordonnees_gps_lat_lon                  73218 non-null  object \n",
      " 36  rang                                     73234 non-null  int64  \n",
      " 37  ident                                    73234 non-null  object \n",
      " 38  identifiant_deps_a_partir_de_2022        73234 non-null  object \n",
      " 39  libelle_epci                             73147 non-null  object \n",
      " 40  code_insee_epci                          73117 non-null  object \n",
      " 41  demographie_sortie                       429 non-null    object \n",
      " 42  demographie_detail                       86 non-null     object \n",
      " 43  identifiant_deps_old                     69582 non-null  object \n",
      " 44  precision_protection_sites_et_monuments  284 non-null    object \n",
      " 45  annee_label_appellation                  2771 non-null   float64\n",
      " 46  demographie_entree_sortie                73234 non-null  object \n",
      "dtypes: float64(6), int64(2), object(39)\n",
      "memory usage: 26.3+ MB\n"
     ]
    }
   ],
   "source": [
    "df = pd.read_csv('./data_raw/base-des-lieux-et-des-equipements-culturels.csv', sep=';', low_memory=False)\n",
    "df.info()"
   ]
  },
  {
   "cell_type": "code",
   "execution_count": 33,
   "metadata": {
    "collapsed": false
   },
   "outputs": [
    {
     "data": {
      "text/plain": "      n_departement type_equipement_ou_lieu    fonction_1\n0                69                Monument  Préservation\n1                69                Monument  Préservation\n2                69                Monument  Préservation\n3                69                Monument  Préservation\n4                69                Monument  Préservation\n...             ...                     ...           ...\n73229            44                  Cinéma     Diffusion\n73230            44                  Cinéma     Diffusion\n73231            44                  Cinéma     Diffusion\n73232            44                  Cinéma     Diffusion\n73233            44                  Cinéma     Diffusion\n\n[73234 rows x 3 columns]",
      "text/html": "<div>\n<style scoped>\n    .dataframe tbody tr th:only-of-type {\n        vertical-align: middle;\n    }\n\n    .dataframe tbody tr th {\n        vertical-align: top;\n    }\n\n    .dataframe thead th {\n        text-align: right;\n    }\n</style>\n<table border=\"1\" class=\"dataframe\">\n  <thead>\n    <tr style=\"text-align: right;\">\n      <th></th>\n      <th>n_departement</th>\n      <th>type_equipement_ou_lieu</th>\n      <th>fonction_1</th>\n    </tr>\n  </thead>\n  <tbody>\n    <tr>\n      <th>0</th>\n      <td>69</td>\n      <td>Monument</td>\n      <td>Préservation</td>\n    </tr>\n    <tr>\n      <th>1</th>\n      <td>69</td>\n      <td>Monument</td>\n      <td>Préservation</td>\n    </tr>\n    <tr>\n      <th>2</th>\n      <td>69</td>\n      <td>Monument</td>\n      <td>Préservation</td>\n    </tr>\n    <tr>\n      <th>3</th>\n      <td>69</td>\n      <td>Monument</td>\n      <td>Préservation</td>\n    </tr>\n    <tr>\n      <th>4</th>\n      <td>69</td>\n      <td>Monument</td>\n      <td>Préservation</td>\n    </tr>\n    <tr>\n      <th>...</th>\n      <td>...</td>\n      <td>...</td>\n      <td>...</td>\n    </tr>\n    <tr>\n      <th>73229</th>\n      <td>44</td>\n      <td>Cinéma</td>\n      <td>Diffusion</td>\n    </tr>\n    <tr>\n      <th>73230</th>\n      <td>44</td>\n      <td>Cinéma</td>\n      <td>Diffusion</td>\n    </tr>\n    <tr>\n      <th>73231</th>\n      <td>44</td>\n      <td>Cinéma</td>\n      <td>Diffusion</td>\n    </tr>\n    <tr>\n      <th>73232</th>\n      <td>44</td>\n      <td>Cinéma</td>\n      <td>Diffusion</td>\n    </tr>\n    <tr>\n      <th>73233</th>\n      <td>44</td>\n      <td>Cinéma</td>\n      <td>Diffusion</td>\n    </tr>\n  </tbody>\n</table>\n<p>73234 rows × 3 columns</p>\n</div>"
     },
     "execution_count": 33,
     "metadata": {},
     "output_type": "execute_result"
    }
   ],
   "source": [
    "colonnes_a_garder = ['n_departement', 'type_equipement_ou_lieu','fonction_1']\n",
    "df_selectionne = df[colonnes_a_garder]\n",
    "df_selectionne"
   ]
  },
  {
   "cell_type": "code",
   "execution_count": 34,
   "outputs": [
    {
     "data": {
      "text/plain": "     n_departement type_equipement_ou_lieu              fonction_1  nombre\n0               01            Bibliothèque               Diffusion     240\n1               01         Centre culturel            Préservation       1\n2               01                  Cinéma               Diffusion      21\n3               01           Conservatoire  Education et formation       5\n4               01          Espace protégé            Préservation       5\n...            ...                     ...                     ...     ...\n1666            99         Lieu de mémoire            Préservation       6\n1667            99                Monument            Préservation      21\n1668            99                   Musée            Préservation      15\n1669            99      Service d'archives            Préservation       7\n1670            99                 Théâtre               Diffusion       3\n\n[1671 rows x 4 columns]",
      "text/html": "<div>\n<style scoped>\n    .dataframe tbody tr th:only-of-type {\n        vertical-align: middle;\n    }\n\n    .dataframe tbody tr th {\n        vertical-align: top;\n    }\n\n    .dataframe thead th {\n        text-align: right;\n    }\n</style>\n<table border=\"1\" class=\"dataframe\">\n  <thead>\n    <tr style=\"text-align: right;\">\n      <th></th>\n      <th>n_departement</th>\n      <th>type_equipement_ou_lieu</th>\n      <th>fonction_1</th>\n      <th>nombre</th>\n    </tr>\n  </thead>\n  <tbody>\n    <tr>\n      <th>0</th>\n      <td>01</td>\n      <td>Bibliothèque</td>\n      <td>Diffusion</td>\n      <td>240</td>\n    </tr>\n    <tr>\n      <th>1</th>\n      <td>01</td>\n      <td>Centre culturel</td>\n      <td>Préservation</td>\n      <td>1</td>\n    </tr>\n    <tr>\n      <th>2</th>\n      <td>01</td>\n      <td>Cinéma</td>\n      <td>Diffusion</td>\n      <td>21</td>\n    </tr>\n    <tr>\n      <th>3</th>\n      <td>01</td>\n      <td>Conservatoire</td>\n      <td>Education et formation</td>\n      <td>5</td>\n    </tr>\n    <tr>\n      <th>4</th>\n      <td>01</td>\n      <td>Espace protégé</td>\n      <td>Préservation</td>\n      <td>5</td>\n    </tr>\n    <tr>\n      <th>...</th>\n      <td>...</td>\n      <td>...</td>\n      <td>...</td>\n      <td>...</td>\n    </tr>\n    <tr>\n      <th>1666</th>\n      <td>99</td>\n      <td>Lieu de mémoire</td>\n      <td>Préservation</td>\n      <td>6</td>\n    </tr>\n    <tr>\n      <th>1667</th>\n      <td>99</td>\n      <td>Monument</td>\n      <td>Préservation</td>\n      <td>21</td>\n    </tr>\n    <tr>\n      <th>1668</th>\n      <td>99</td>\n      <td>Musée</td>\n      <td>Préservation</td>\n      <td>15</td>\n    </tr>\n    <tr>\n      <th>1669</th>\n      <td>99</td>\n      <td>Service d'archives</td>\n      <td>Préservation</td>\n      <td>7</td>\n    </tr>\n    <tr>\n      <th>1670</th>\n      <td>99</td>\n      <td>Théâtre</td>\n      <td>Diffusion</td>\n      <td>3</td>\n    </tr>\n  </tbody>\n</table>\n<p>1671 rows × 4 columns</p>\n</div>"
     },
     "execution_count": 34,
     "metadata": {},
     "output_type": "execute_result"
    }
   ],
   "source": [
    "result = df.groupby(['n_departement', 'type_equipement_ou_lieu', 'fonction_1']).size().reset_index(name='nombre')\n",
    "result"
   ],
   "metadata": {
    "collapsed": false
   }
  },
  {
   "cell_type": "code",
   "execution_count": 35,
   "outputs": [],
   "source": [
    "result.drop(columns=['type_equipement_ou_lieu'], inplace=True)"
   ],
   "metadata": {
    "collapsed": false
   }
  },
  {
   "cell_type": "code",
   "execution_count": 36,
   "outputs": [],
   "source": [
    "# df_pivot = result.pivot(index=['n_departement'], columns='fonction_1', values='nombre').reset_index()\n",
    "# df_pivot.columns.name = None\n",
    "# result = df_pivot\n",
    "# result"
   ],
   "metadata": {
    "collapsed": false
   }
  },
  {
   "cell_type": "code",
   "execution_count": 48,
   "outputs": [
    {
     "data": {
      "text/plain": "    code_departement  nombre\n0                 01     708\n1                 02     828\n2                 03     836\n3                 04     363\n4                 05     336\n..               ...     ...\n99               972     189\n100              973     123\n101              974     330\n102              976      21\n103               99      84\n\n[104 rows x 2 columns]",
      "text/html": "<div>\n<style scoped>\n    .dataframe tbody tr th:only-of-type {\n        vertical-align: middle;\n    }\n\n    .dataframe tbody tr th {\n        vertical-align: top;\n    }\n\n    .dataframe thead th {\n        text-align: right;\n    }\n</style>\n<table border=\"1\" class=\"dataframe\">\n  <thead>\n    <tr style=\"text-align: right;\">\n      <th></th>\n      <th>code_departement</th>\n      <th>nombre</th>\n    </tr>\n  </thead>\n  <tbody>\n    <tr>\n      <th>0</th>\n      <td>01</td>\n      <td>708</td>\n    </tr>\n    <tr>\n      <th>1</th>\n      <td>02</td>\n      <td>828</td>\n    </tr>\n    <tr>\n      <th>2</th>\n      <td>03</td>\n      <td>836</td>\n    </tr>\n    <tr>\n      <th>3</th>\n      <td>04</td>\n      <td>363</td>\n    </tr>\n    <tr>\n      <th>4</th>\n      <td>05</td>\n      <td>336</td>\n    </tr>\n    <tr>\n      <th>...</th>\n      <td>...</td>\n      <td>...</td>\n    </tr>\n    <tr>\n      <th>99</th>\n      <td>972</td>\n      <td>189</td>\n    </tr>\n    <tr>\n      <th>100</th>\n      <td>973</td>\n      <td>123</td>\n    </tr>\n    <tr>\n      <th>101</th>\n      <td>974</td>\n      <td>330</td>\n    </tr>\n    <tr>\n      <th>102</th>\n      <td>976</td>\n      <td>21</td>\n    </tr>\n    <tr>\n      <th>103</th>\n      <td>99</td>\n      <td>84</td>\n    </tr>\n  </tbody>\n</table>\n<p>104 rows × 2 columns</p>\n</div>"
     },
     "execution_count": 48,
     "metadata": {},
     "output_type": "execute_result"
    }
   ],
   "source": [
    "\n",
    "\n",
    "culture_df = result.groupby(['n_departement'])['nombre'].sum().reset_index()\n",
    "culture_df = culture_df.rename(columns={'n_departement': 'code_departement'})\n",
    "\n",
    "culture_df"
   ],
   "metadata": {
    "collapsed": false
   }
  },
  {
   "cell_type": "code",
   "execution_count": 44,
   "outputs": [],
   "source": [
    "population_df = pd.read_csv(\"./donnees/population_departement.csv\")\n"
   ],
   "metadata": {
    "collapsed": false
   }
  },
  {
   "cell_type": "code",
   "execution_count": 49,
   "outputs": [
    {
     "data": {
      "text/plain": "    code_departement  nombre          nom_departement  total_population\n0                 01     708                      Ain          671937.0\n1                 02     828                    Aisne          522791.0\n2                 03     836                   Allier          332443.0\n3                 04     363  Alpes-de-Haute-Provence          166654.0\n4                 05     336             Hautes-Alpes          139942.0\n..               ...     ...                      ...               ...\n99               972     189                      NaN               NaN\n100              973     123                      NaN               NaN\n101              974     330                      NaN               NaN\n102              976      21                      NaN               NaN\n103               99      84                      NaN               NaN\n\n[104 rows x 4 columns]",
      "text/html": "<div>\n<style scoped>\n    .dataframe tbody tr th:only-of-type {\n        vertical-align: middle;\n    }\n\n    .dataframe tbody tr th {\n        vertical-align: top;\n    }\n\n    .dataframe thead th {\n        text-align: right;\n    }\n</style>\n<table border=\"1\" class=\"dataframe\">\n  <thead>\n    <tr style=\"text-align: right;\">\n      <th></th>\n      <th>code_departement</th>\n      <th>nombre</th>\n      <th>nom_departement</th>\n      <th>total_population</th>\n    </tr>\n  </thead>\n  <tbody>\n    <tr>\n      <th>0</th>\n      <td>01</td>\n      <td>708</td>\n      <td>Ain</td>\n      <td>671937.0</td>\n    </tr>\n    <tr>\n      <th>1</th>\n      <td>02</td>\n      <td>828</td>\n      <td>Aisne</td>\n      <td>522791.0</td>\n    </tr>\n    <tr>\n      <th>2</th>\n      <td>03</td>\n      <td>836</td>\n      <td>Allier</td>\n      <td>332443.0</td>\n    </tr>\n    <tr>\n      <th>3</th>\n      <td>04</td>\n      <td>363</td>\n      <td>Alpes-de-Haute-Provence</td>\n      <td>166654.0</td>\n    </tr>\n    <tr>\n      <th>4</th>\n      <td>05</td>\n      <td>336</td>\n      <td>Hautes-Alpes</td>\n      <td>139942.0</td>\n    </tr>\n    <tr>\n      <th>...</th>\n      <td>...</td>\n      <td>...</td>\n      <td>...</td>\n      <td>...</td>\n    </tr>\n    <tr>\n      <th>99</th>\n      <td>972</td>\n      <td>189</td>\n      <td>NaN</td>\n      <td>NaN</td>\n    </tr>\n    <tr>\n      <th>100</th>\n      <td>973</td>\n      <td>123</td>\n      <td>NaN</td>\n      <td>NaN</td>\n    </tr>\n    <tr>\n      <th>101</th>\n      <td>974</td>\n      <td>330</td>\n      <td>NaN</td>\n      <td>NaN</td>\n    </tr>\n    <tr>\n      <th>102</th>\n      <td>976</td>\n      <td>21</td>\n      <td>NaN</td>\n      <td>NaN</td>\n    </tr>\n    <tr>\n      <th>103</th>\n      <td>99</td>\n      <td>84</td>\n      <td>NaN</td>\n      <td>NaN</td>\n    </tr>\n  </tbody>\n</table>\n<p>104 rows × 4 columns</p>\n</div>"
     },
     "execution_count": 49,
     "metadata": {},
     "output_type": "execute_result"
    }
   ],
   "source": [
    "result_merged = pd.merge(culture_df, population_df, on='code_departement', how='left')\n",
    "result_merged"
   ],
   "metadata": {
    "collapsed": false
   }
  },
  {
   "cell_type": "code",
   "execution_count": 55,
   "outputs": [
    {
     "data": {
      "text/plain": "    code_departement  culture/1000POP\n0                 01         1.053670\n1                 02         1.583807\n2                 03         2.514717\n3                 04         2.178166\n4                 05         2.400995\n..               ...              ...\n99               972              NaN\n100              973              NaN\n101              974              NaN\n102              976              NaN\n103               99              NaN\n\n[104 rows x 2 columns]",
      "text/html": "<div>\n<style scoped>\n    .dataframe tbody tr th:only-of-type {\n        vertical-align: middle;\n    }\n\n    .dataframe tbody tr th {\n        vertical-align: top;\n    }\n\n    .dataframe thead th {\n        text-align: right;\n    }\n</style>\n<table border=\"1\" class=\"dataframe\">\n  <thead>\n    <tr style=\"text-align: right;\">\n      <th></th>\n      <th>code_departement</th>\n      <th>culture/1000POP</th>\n    </tr>\n  </thead>\n  <tbody>\n    <tr>\n      <th>0</th>\n      <td>01</td>\n      <td>1.053670</td>\n    </tr>\n    <tr>\n      <th>1</th>\n      <td>02</td>\n      <td>1.583807</td>\n    </tr>\n    <tr>\n      <th>2</th>\n      <td>03</td>\n      <td>2.514717</td>\n    </tr>\n    <tr>\n      <th>3</th>\n      <td>04</td>\n      <td>2.178166</td>\n    </tr>\n    <tr>\n      <th>4</th>\n      <td>05</td>\n      <td>2.400995</td>\n    </tr>\n    <tr>\n      <th>...</th>\n      <td>...</td>\n      <td>...</td>\n    </tr>\n    <tr>\n      <th>99</th>\n      <td>972</td>\n      <td>NaN</td>\n    </tr>\n    <tr>\n      <th>100</th>\n      <td>973</td>\n      <td>NaN</td>\n    </tr>\n    <tr>\n      <th>101</th>\n      <td>974</td>\n      <td>NaN</td>\n    </tr>\n    <tr>\n      <th>102</th>\n      <td>976</td>\n      <td>NaN</td>\n    </tr>\n    <tr>\n      <th>103</th>\n      <td>99</td>\n      <td>NaN</td>\n    </tr>\n  </tbody>\n</table>\n<p>104 rows × 2 columns</p>\n</div>"
     },
     "execution_count": 55,
     "metadata": {},
     "output_type": "execute_result"
    }
   ],
   "source": [
    "result_merged['culture/1000POP'] = result_merged['nombre'] / result_merged['total_population'] * 1000\n",
    "\n",
    "\n",
    "colonnes_a_garder = ['code_departement','culture/1000POP']\n",
    "result_merged = result_merged[colonnes_a_garder]"
   ],
   "metadata": {
    "collapsed": false
   }
  },
  {
   "cell_type": "code",
   "execution_count": null,
   "outputs": [],
   "source": [
    "sortie = './donnees/culture.csv'\n",
    "result_merged.to_csv(sortie, index=False)"
   ],
   "metadata": {
    "collapsed": false
   }
  }
 ],
 "metadata": {
  "kernelspec": {
   "display_name": "Python 3",
   "language": "python",
   "name": "python3"
  },
  "language_info": {
   "codemirror_mode": {
    "name": "ipython",
    "version": 2
   },
   "file_extension": ".py",
   "mimetype": "text/x-python",
   "name": "python",
   "nbconvert_exporter": "python",
   "pygments_lexer": "ipython2",
   "version": "3.11.7"
  }
 },
 "nbformat": 4,
 "nbformat_minor": 0
}
