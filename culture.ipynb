{
 "cells": [
  {
   "cell_type": "code",
   "execution_count": 23,
   "metadata": {
    "collapsed": true
   },
   "outputs": [],
   "source": [
    "import pandas as pd"
   ]
  },
  {
   "cell_type": "code",
   "execution_count": 24,
   "metadata": {
    "collapsed": false
   },
   "outputs": [
    {
     "name": "stdout",
     "output_type": "stream",
     "text": [
      "<class 'pandas.core.frame.DataFrame'>\n",
      "RangeIndex: 73234 entries, 0 to 73233\n",
      "Data columns (total 47 columns):\n",
      " #   Column                                   Non-Null Count  Dtype  \n",
      "---  ------                                   --------------  -----  \n",
      " 0   source                                   73203 non-null  object \n",
      " 1   nom                                      73234 non-null  object \n",
      " 2   adresse                                  41249 non-null  object \n",
      " 3   complement_adresse                       335 non-null    object \n",
      " 4   code_postal                              72294 non-null  float64\n",
      " 5   libelle_geographique                     73131 non-null  object \n",
      " 6   code_insee                               73233 non-null  object \n",
      " 7   code_insee_arrondt                       73068 non-null  object \n",
      " 8   identifiant_origine                      67285 non-null  object \n",
      " 9   type_equipement_ou_lieu                  73234 non-null  object \n",
      " 10  label_et_appellation                     53885 non-null  object \n",
      " 11  region                                   73162 non-null  object \n",
      " 12  domaine                                  73234 non-null  object \n",
      " 13  sous_domaines                            51561 non-null  object \n",
      " 14  archeologie_detail                       562 non-null    object \n",
      " 15  adresse_postale                          72206 non-null  object \n",
      " 16  departement                              73234 non-null  object \n",
      " 17  precision_equipement                     64702 non-null  object \n",
      " 18  n_departement                            73234 non-null  object \n",
      " 19  n_region                                 73234 non-null  int64  \n",
      " 20  fonction_1                               73227 non-null  object \n",
      " 21  fonction_2                               19687 non-null  object \n",
      " 22  fonction_3                               22 non-null     object \n",
      " 23  fonction_4                               22 non-null     object \n",
      " 24  multiplexe                               2116 non-null   object \n",
      " 25  type_de_cinema                           2140 non-null   object \n",
      " 26  nombre_fauteuils_de_cinema               2140 non-null   float64\n",
      " 27  nombre_ecrans                            2140 non-null   float64\n",
      " 28  nombre_de_salles_de_theatre              1040 non-null   float64\n",
      " 29  organisme_siege_du_theatre               264 non-null    object \n",
      " 30  jauge_du_theatre                         981 non-null    float64\n",
      " 31  code_du_reseau_de_bibliotheques          15540 non-null  object \n",
      " 32  nom_du_reseau_de_bibliotheques           15529 non-null  object \n",
      " 33  nom_de_l_illustre                        245 non-null    object \n",
      " 34  surface_bibliotheque                     14223 non-null  object \n",
      " 35  coordonnees_gps_lat_lon                  73218 non-null  object \n",
      " 36  rang                                     73234 non-null  int64  \n",
      " 37  ident                                    73234 non-null  object \n",
      " 38  identifiant_deps_a_partir_de_2022        73234 non-null  object \n",
      " 39  libelle_epci                             73147 non-null  object \n",
      " 40  code_insee_epci                          73117 non-null  object \n",
      " 41  demographie_sortie                       429 non-null    object \n",
      " 42  demographie_detail                       86 non-null     object \n",
      " 43  identifiant_deps_old                     69582 non-null  object \n",
      " 44  precision_protection_sites_et_monuments  284 non-null    object \n",
      " 45  annee_label_appellation                  2771 non-null   float64\n",
      " 46  demographie_entree_sortie                73234 non-null  object \n",
      "dtypes: float64(6), int64(2), object(39)\n",
      "memory usage: 26.3+ MB\n"
     ]
    }
   ],
   "source": [
    "df = pd.read_csv('./donnees_brutes/base-des-lieux-et-des-equipements-culturels.csv', sep=';', low_memory=False)\n",
    "df.info()"
   ]
  },
  {
   "cell_type": "code",
   "execution_count": 25,
   "metadata": {
    "collapsed": false
   },
   "outputs": [
    {
     "data": {
      "text/html": [
       "<div>\n",
       "<style scoped>\n",
       "    .dataframe tbody tr th:only-of-type {\n",
       "        vertical-align: middle;\n",
       "    }\n",
       "\n",
       "    .dataframe tbody tr th {\n",
       "        vertical-align: top;\n",
       "    }\n",
       "\n",
       "    .dataframe thead th {\n",
       "        text-align: right;\n",
       "    }\n",
       "</style>\n",
       "<table border=\"1\" class=\"dataframe\">\n",
       "  <thead>\n",
       "    <tr style=\"text-align: right;\">\n",
       "      <th></th>\n",
       "      <th>n_departement</th>\n",
       "      <th>type_equipement_ou_lieu</th>\n",
       "      <th>fonction_1</th>\n",
       "    </tr>\n",
       "  </thead>\n",
       "  <tbody>\n",
       "    <tr>\n",
       "      <th>0</th>\n",
       "      <td>69</td>\n",
       "      <td>Monument</td>\n",
       "      <td>Préservation</td>\n",
       "    </tr>\n",
       "    <tr>\n",
       "      <th>1</th>\n",
       "      <td>69</td>\n",
       "      <td>Monument</td>\n",
       "      <td>Préservation</td>\n",
       "    </tr>\n",
       "    <tr>\n",
       "      <th>2</th>\n",
       "      <td>69</td>\n",
       "      <td>Monument</td>\n",
       "      <td>Préservation</td>\n",
       "    </tr>\n",
       "    <tr>\n",
       "      <th>3</th>\n",
       "      <td>69</td>\n",
       "      <td>Monument</td>\n",
       "      <td>Préservation</td>\n",
       "    </tr>\n",
       "    <tr>\n",
       "      <th>4</th>\n",
       "      <td>69</td>\n",
       "      <td>Monument</td>\n",
       "      <td>Préservation</td>\n",
       "    </tr>\n",
       "    <tr>\n",
       "      <th>...</th>\n",
       "      <td>...</td>\n",
       "      <td>...</td>\n",
       "      <td>...</td>\n",
       "    </tr>\n",
       "    <tr>\n",
       "      <th>73229</th>\n",
       "      <td>44</td>\n",
       "      <td>Cinéma</td>\n",
       "      <td>Diffusion</td>\n",
       "    </tr>\n",
       "    <tr>\n",
       "      <th>73230</th>\n",
       "      <td>44</td>\n",
       "      <td>Cinéma</td>\n",
       "      <td>Diffusion</td>\n",
       "    </tr>\n",
       "    <tr>\n",
       "      <th>73231</th>\n",
       "      <td>44</td>\n",
       "      <td>Cinéma</td>\n",
       "      <td>Diffusion</td>\n",
       "    </tr>\n",
       "    <tr>\n",
       "      <th>73232</th>\n",
       "      <td>44</td>\n",
       "      <td>Cinéma</td>\n",
       "      <td>Diffusion</td>\n",
       "    </tr>\n",
       "    <tr>\n",
       "      <th>73233</th>\n",
       "      <td>44</td>\n",
       "      <td>Cinéma</td>\n",
       "      <td>Diffusion</td>\n",
       "    </tr>\n",
       "  </tbody>\n",
       "</table>\n",
       "<p>73234 rows × 3 columns</p>\n",
       "</div>"
      ],
      "text/plain": [
       "      n_departement type_equipement_ou_lieu    fonction_1\n",
       "0                69                Monument  Préservation\n",
       "1                69                Monument  Préservation\n",
       "2                69                Monument  Préservation\n",
       "3                69                Monument  Préservation\n",
       "4                69                Monument  Préservation\n",
       "...             ...                     ...           ...\n",
       "73229            44                  Cinéma     Diffusion\n",
       "73230            44                  Cinéma     Diffusion\n",
       "73231            44                  Cinéma     Diffusion\n",
       "73232            44                  Cinéma     Diffusion\n",
       "73233            44                  Cinéma     Diffusion\n",
       "\n",
       "[73234 rows x 3 columns]"
      ]
     },
     "execution_count": 25,
     "metadata": {},
     "output_type": "execute_result"
    }
   ],
   "source": [
    "colonnes_a_garder = ['n_departement', 'type_equipement_ou_lieu','fonction_1']\n",
    "df_selectionne = df[colonnes_a_garder]\n",
    "df_selectionne"
   ]
  },
  {
   "cell_type": "code",
   "execution_count": 28,
   "metadata": {
    "collapsed": false
   },
   "outputs": [],
   "source": [
    "sortie = './donnees/culture.csv'\n",
    "df_selectionne.to_csv(sortie, index=False)"
   ]
  },
  {
   "cell_type": "code",
   "execution_count": 26,
   "metadata": {
    "collapsed": false
   },
   "outputs": [],
   "source": []
  }
 ],
 "metadata": {
  "kernelspec": {
   "display_name": "Python 3",
   "language": "python",
   "name": "python3"
  },
  "language_info": {
   "codemirror_mode": {
    "name": "ipython",
    "version": 2
   },
   "file_extension": ".py",
   "mimetype": "text/x-python",
   "name": "python",
   "nbconvert_exporter": "python",
   "pygments_lexer": "ipython2",
   "version": "3.11.7"
  }
 },
 "nbformat": 4,
 "nbformat_minor": 0
}
