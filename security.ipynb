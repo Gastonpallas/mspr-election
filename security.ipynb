{
 "cells": [
  {
   "cell_type": "code",
   "execution_count": 73,
   "id": "a75e40d8-c6d6-426a-8198-9fcc6b350046",
   "metadata": {
    "ExecuteTime": {
     "end_time": "2024-03-18T11:21:01.201151Z",
     "start_time": "2024-03-18T11:21:01.171581500Z"
    }
   },
   "outputs": [],
   "source": [
    "import pandas as pd"
   ]
  },
  {
   "cell_type": "code",
   "execution_count": 74,
   "id": "b5b1f4b5-76b5-48c4-af9d-84b95cc8dd09",
   "metadata": {
    "ExecuteTime": {
     "end_time": "2024-03-18T11:21:01.851068600Z",
     "start_time": "2024-03-18T11:21:01.208057400Z"
    }
   },
   "outputs": [],
   "source": [
    "df = pd.read_csv('https://www.data.gouv.fr/fr/datasets/r/acc332f6-92be-42af-9721-f3609bea8cfc',  sep= ';')"
   ]
  },
  {
   "cell_type": "code",
   "execution_count": 75,
   "id": "04dab249-8ded-4f53-90d3-3da43666c109",
   "metadata": {
    "ExecuteTime": {
     "end_time": "2024-03-18T11:21:01.874197100Z",
     "start_time": "2024-03-18T11:21:01.792833800Z"
    }
   },
   "outputs": [
    {
     "data": {
      "text/plain": "      classe  annee Code.département  Code.région unité.de.compte  millPOP  \\\n0  Homicides     16               01         84.0         victime     16.0   \n1  Homicides     16               02         32.0         victime     16.0   \n2  Homicides     16               03         84.0         victime     16.0   \n3  Homicides     16               04         93.0         victime     16.0   \n4  Homicides     16               05         93.0         victime     16.0   \n\n   millLOG  faits       POP                LOG         tauxpourmille  \n0     16.0      5  638425.0  308491,1600513844  7,83177350511023e-03  \n1     16.0     10  536136.0  264180,0836046834  1,86519838249996e-02  \n2     16.0      4  339384.0  206980,3726684623  1,17860594488839e-02  \n3     16.0      2  162565.0  126760,4042559317  1,23027711992126e-02  \n4     16.0      0  141107.0  134646,6209596995  0,00000000000000e+00  ",
      "text/html": "<div>\n<style scoped>\n    .dataframe tbody tr th:only-of-type {\n        vertical-align: middle;\n    }\n\n    .dataframe tbody tr th {\n        vertical-align: top;\n    }\n\n    .dataframe thead th {\n        text-align: right;\n    }\n</style>\n<table border=\"1\" class=\"dataframe\">\n  <thead>\n    <tr style=\"text-align: right;\">\n      <th></th>\n      <th>classe</th>\n      <th>annee</th>\n      <th>Code.département</th>\n      <th>Code.région</th>\n      <th>unité.de.compte</th>\n      <th>millPOP</th>\n      <th>millLOG</th>\n      <th>faits</th>\n      <th>POP</th>\n      <th>LOG</th>\n      <th>tauxpourmille</th>\n    </tr>\n  </thead>\n  <tbody>\n    <tr>\n      <th>0</th>\n      <td>Homicides</td>\n      <td>16</td>\n      <td>01</td>\n      <td>84.0</td>\n      <td>victime</td>\n      <td>16.0</td>\n      <td>16.0</td>\n      <td>5</td>\n      <td>638425.0</td>\n      <td>308491,1600513844</td>\n      <td>7,83177350511023e-03</td>\n    </tr>\n    <tr>\n      <th>1</th>\n      <td>Homicides</td>\n      <td>16</td>\n      <td>02</td>\n      <td>32.0</td>\n      <td>victime</td>\n      <td>16.0</td>\n      <td>16.0</td>\n      <td>10</td>\n      <td>536136.0</td>\n      <td>264180,0836046834</td>\n      <td>1,86519838249996e-02</td>\n    </tr>\n    <tr>\n      <th>2</th>\n      <td>Homicides</td>\n      <td>16</td>\n      <td>03</td>\n      <td>84.0</td>\n      <td>victime</td>\n      <td>16.0</td>\n      <td>16.0</td>\n      <td>4</td>\n      <td>339384.0</td>\n      <td>206980,3726684623</td>\n      <td>1,17860594488839e-02</td>\n    </tr>\n    <tr>\n      <th>3</th>\n      <td>Homicides</td>\n      <td>16</td>\n      <td>04</td>\n      <td>93.0</td>\n      <td>victime</td>\n      <td>16.0</td>\n      <td>16.0</td>\n      <td>2</td>\n      <td>162565.0</td>\n      <td>126760,4042559317</td>\n      <td>1,23027711992126e-02</td>\n    </tr>\n    <tr>\n      <th>4</th>\n      <td>Homicides</td>\n      <td>16</td>\n      <td>05</td>\n      <td>93.0</td>\n      <td>victime</td>\n      <td>16.0</td>\n      <td>16.0</td>\n      <td>0</td>\n      <td>141107.0</td>\n      <td>134646,6209596995</td>\n      <td>0,00000000000000e+00</td>\n    </tr>\n  </tbody>\n</table>\n</div>"
     },
     "execution_count": 75,
     "metadata": {},
     "output_type": "execute_result"
    }
   ],
   "source": [
    "df.head()"
   ]
  },
  {
   "cell_type": "code",
   "execution_count": 76,
   "id": "a15db0b4-13ac-4c12-a20a-fa092df40e0c",
   "metadata": {
    "ExecuteTime": {
     "end_time": "2024-03-18T11:21:01.876371Z",
     "start_time": "2024-03-18T11:21:01.823157700Z"
    }
   },
   "outputs": [
    {
     "data": {
      "text/plain": "(13056, 11)"
     },
     "execution_count": 76,
     "metadata": {},
     "output_type": "execute_result"
    }
   ],
   "source": [
    "df.shape"
   ]
  },
  {
   "cell_type": "code",
   "execution_count": 77,
   "id": "b3008883e3918164",
   "metadata": {
    "collapsed": false,
    "ExecuteTime": {
     "end_time": "2024-03-18T11:21:01.877437600Z",
     "start_time": "2024-03-18T11:21:01.834181700Z"
    }
   },
   "outputs": [
    {
     "data": {
      "text/plain": "Index(['classe', 'annee', 'Code.département', 'Code.région', 'unité.de.compte',\n       'millPOP', 'millLOG', 'faits', 'POP', 'LOG', 'tauxpourmille'],\n      dtype='object')"
     },
     "execution_count": 77,
     "metadata": {},
     "output_type": "execute_result"
    }
   ],
   "source": [
    "df.columns"
   ]
  },
  {
   "cell_type": "code",
   "execution_count": 78,
   "id": "413d479a76d87eb9",
   "metadata": {
    "collapsed": false,
    "ExecuteTime": {
     "end_time": "2024-03-18T11:21:01.995670500Z",
     "start_time": "2024-03-18T11:21:01.847818600Z"
    }
   },
   "outputs": [
    {
     "name": "stdout",
     "output_type": "stream",
     "text": [
      "classe               object\n",
      "annee                 int64\n",
      "Code.département     object\n",
      "Code.région         float64\n",
      "unité.de.compte      object\n",
      "millPOP             float64\n",
      "millLOG             float64\n",
      "faits                 int64\n",
      "POP                 float64\n",
      "LOG                  object\n",
      "tauxpourmille        object\n",
      "dtype: object\n"
     ]
    }
   ],
   "source": [
    "print(df.dtypes)"
   ]
  },
  {
   "cell_type": "code",
   "execution_count": 79,
   "id": "928688906ae6b479",
   "metadata": {
    "collapsed": false,
    "ExecuteTime": {
     "end_time": "2024-03-18T11:21:02.068623400Z",
     "start_time": "2024-03-18T11:21:01.859555400Z"
    }
   },
   "outputs": [],
   "source": [
    "df['tauxpourmille'] = df['tauxpourmille'].str.replace(',', '.')\n",
    "df['LOG'] = df['LOG'].str.replace(',', '.')"
   ]
  },
  {
   "cell_type": "code",
   "execution_count": 80,
   "id": "560084f085156dec",
   "metadata": {
    "collapsed": false,
    "ExecuteTime": {
     "end_time": "2024-03-18T11:21:02.127381400Z",
     "start_time": "2024-03-18T11:21:01.891562900Z"
    }
   },
   "outputs": [],
   "source": [
    "df['tauxpourmille'] = df['tauxpourmille'].astype(float)\n",
    "df['LOG'] = df['LOG'].astype(float)"
   ]
  },
  {
   "cell_type": "code",
   "execution_count": 81,
   "id": "70c5d98d-78f6-4d5b-8edc-263b10567f6a",
   "metadata": {
    "ExecuteTime": {
     "end_time": "2024-03-18T11:21:02.208583500Z",
     "start_time": "2024-03-18T11:21:01.918790900Z"
    }
   },
   "outputs": [
    {
     "name": "stdout",
     "output_type": "stream",
     "text": [
      "<class 'pandas.core.frame.DataFrame'>\n",
      "RangeIndex: 13056 entries, 0 to 13055\n",
      "Data columns (total 11 columns):\n",
      " #   Column            Non-Null Count  Dtype  \n",
      "---  ------            --------------  -----  \n",
      " 0   classe            13056 non-null  object \n",
      " 1   annee             13056 non-null  int64  \n",
      " 2   Code.département  12928 non-null  object \n",
      " 3   Code.région       12928 non-null  float64\n",
      " 4   unité.de.compte   13056 non-null  object \n",
      " 5   millPOP           12928 non-null  float64\n",
      " 6   millLOG           12928 non-null  float64\n",
      " 7   faits             13056 non-null  int64  \n",
      " 8   POP               12928 non-null  float64\n",
      " 9   LOG               12928 non-null  float64\n",
      " 10  tauxpourmille     12928 non-null  float64\n",
      "dtypes: float64(6), int64(2), object(3)\n",
      "memory usage: 1.1+ MB\n"
     ]
    }
   ],
   "source": [
    "df.info()"
   ]
  },
  {
   "cell_type": "code",
   "execution_count": 82,
   "id": "4740034a-68af-4e7d-ad72-5c53e9dfeb07",
   "metadata": {
    "ExecuteTime": {
     "end_time": "2024-03-18T11:21:02.210749300Z",
     "start_time": "2024-03-18T11:21:01.934929600Z"
    }
   },
   "outputs": [
    {
     "data": {
      "text/plain": "classe                0\nannee                 0\nCode.département    128\nCode.région         128\nunité.de.compte       0\nmillPOP             128\nmillLOG             128\nfaits                 0\nPOP                 128\nLOG                 128\ntauxpourmille       128\ndtype: int64"
     },
     "execution_count": 82,
     "metadata": {},
     "output_type": "execute_result"
    }
   ],
   "source": [
    "#detecting missing values \n",
    "\n",
    "missing_count = df.isnull().sum()\n",
    "missing_count"
   ]
  },
  {
   "cell_type": "code",
   "execution_count": 83,
   "id": "1c30b848-9916-4d1d-8b03-fa7e41d884da",
   "metadata": {
    "ExecuteTime": {
     "end_time": "2024-03-18T11:21:02.247107200Z",
     "start_time": "2024-03-18T11:21:01.956915900Z"
    }
   },
   "outputs": [
    {
     "data": {
      "text/plain": "                     classe  annee Code.département  Code.région  \\\n101               Homicides     16              NaN          NaN   \n203               Homicides     17              NaN          NaN   \n305               Homicides     18              NaN          NaN   \n407               Homicides     19              NaN          NaN   \n509               Homicides     20              NaN          NaN   \n...                     ...    ...              ...          ...   \n12647  Usage de stupéfiants     19              NaN          NaN   \n12749  Usage de stupéfiants     20              NaN          NaN   \n12851  Usage de stupéfiants     21              NaN          NaN   \n12953  Usage de stupéfiants     22              NaN          NaN   \n13055  Usage de stupéfiants     23              NaN          NaN   \n\n      unité.de.compte  millPOP  millLOG  faits  POP  LOG  tauxpourmille  \n101           victime      NaN      NaN      0  NaN  NaN            NaN  \n203           victime      NaN      NaN      0  NaN  NaN            NaN  \n305           victime      NaN      NaN      0  NaN  NaN            NaN  \n407           victime      NaN      NaN      0  NaN  NaN            NaN  \n509           victime      NaN      NaN      0  NaN  NaN            NaN  \n...               ...      ...      ...    ...  ...  ...            ...  \n12647    Mis en cause      NaN      NaN      0  NaN  NaN            NaN  \n12749    Mis en cause      NaN      NaN      0  NaN  NaN            NaN  \n12851    Mis en cause      NaN      NaN      0  NaN  NaN            NaN  \n12953    Mis en cause      NaN      NaN      0  NaN  NaN            NaN  \n13055    Mis en cause      NaN      NaN      0  NaN  NaN            NaN  \n\n[128 rows x 11 columns]",
      "text/html": "<div>\n<style scoped>\n    .dataframe tbody tr th:only-of-type {\n        vertical-align: middle;\n    }\n\n    .dataframe tbody tr th {\n        vertical-align: top;\n    }\n\n    .dataframe thead th {\n        text-align: right;\n    }\n</style>\n<table border=\"1\" class=\"dataframe\">\n  <thead>\n    <tr style=\"text-align: right;\">\n      <th></th>\n      <th>classe</th>\n      <th>annee</th>\n      <th>Code.département</th>\n      <th>Code.région</th>\n      <th>unité.de.compte</th>\n      <th>millPOP</th>\n      <th>millLOG</th>\n      <th>faits</th>\n      <th>POP</th>\n      <th>LOG</th>\n      <th>tauxpourmille</th>\n    </tr>\n  </thead>\n  <tbody>\n    <tr>\n      <th>101</th>\n      <td>Homicides</td>\n      <td>16</td>\n      <td>NaN</td>\n      <td>NaN</td>\n      <td>victime</td>\n      <td>NaN</td>\n      <td>NaN</td>\n      <td>0</td>\n      <td>NaN</td>\n      <td>NaN</td>\n      <td>NaN</td>\n    </tr>\n    <tr>\n      <th>203</th>\n      <td>Homicides</td>\n      <td>17</td>\n      <td>NaN</td>\n      <td>NaN</td>\n      <td>victime</td>\n      <td>NaN</td>\n      <td>NaN</td>\n      <td>0</td>\n      <td>NaN</td>\n      <td>NaN</td>\n      <td>NaN</td>\n    </tr>\n    <tr>\n      <th>305</th>\n      <td>Homicides</td>\n      <td>18</td>\n      <td>NaN</td>\n      <td>NaN</td>\n      <td>victime</td>\n      <td>NaN</td>\n      <td>NaN</td>\n      <td>0</td>\n      <td>NaN</td>\n      <td>NaN</td>\n      <td>NaN</td>\n    </tr>\n    <tr>\n      <th>407</th>\n      <td>Homicides</td>\n      <td>19</td>\n      <td>NaN</td>\n      <td>NaN</td>\n      <td>victime</td>\n      <td>NaN</td>\n      <td>NaN</td>\n      <td>0</td>\n      <td>NaN</td>\n      <td>NaN</td>\n      <td>NaN</td>\n    </tr>\n    <tr>\n      <th>509</th>\n      <td>Homicides</td>\n      <td>20</td>\n      <td>NaN</td>\n      <td>NaN</td>\n      <td>victime</td>\n      <td>NaN</td>\n      <td>NaN</td>\n      <td>0</td>\n      <td>NaN</td>\n      <td>NaN</td>\n      <td>NaN</td>\n    </tr>\n    <tr>\n      <th>...</th>\n      <td>...</td>\n      <td>...</td>\n      <td>...</td>\n      <td>...</td>\n      <td>...</td>\n      <td>...</td>\n      <td>...</td>\n      <td>...</td>\n      <td>...</td>\n      <td>...</td>\n      <td>...</td>\n    </tr>\n    <tr>\n      <th>12647</th>\n      <td>Usage de stupéfiants</td>\n      <td>19</td>\n      <td>NaN</td>\n      <td>NaN</td>\n      <td>Mis en cause</td>\n      <td>NaN</td>\n      <td>NaN</td>\n      <td>0</td>\n      <td>NaN</td>\n      <td>NaN</td>\n      <td>NaN</td>\n    </tr>\n    <tr>\n      <th>12749</th>\n      <td>Usage de stupéfiants</td>\n      <td>20</td>\n      <td>NaN</td>\n      <td>NaN</td>\n      <td>Mis en cause</td>\n      <td>NaN</td>\n      <td>NaN</td>\n      <td>0</td>\n      <td>NaN</td>\n      <td>NaN</td>\n      <td>NaN</td>\n    </tr>\n    <tr>\n      <th>12851</th>\n      <td>Usage de stupéfiants</td>\n      <td>21</td>\n      <td>NaN</td>\n      <td>NaN</td>\n      <td>Mis en cause</td>\n      <td>NaN</td>\n      <td>NaN</td>\n      <td>0</td>\n      <td>NaN</td>\n      <td>NaN</td>\n      <td>NaN</td>\n    </tr>\n    <tr>\n      <th>12953</th>\n      <td>Usage de stupéfiants</td>\n      <td>22</td>\n      <td>NaN</td>\n      <td>NaN</td>\n      <td>Mis en cause</td>\n      <td>NaN</td>\n      <td>NaN</td>\n      <td>0</td>\n      <td>NaN</td>\n      <td>NaN</td>\n      <td>NaN</td>\n    </tr>\n    <tr>\n      <th>13055</th>\n      <td>Usage de stupéfiants</td>\n      <td>23</td>\n      <td>NaN</td>\n      <td>NaN</td>\n      <td>Mis en cause</td>\n      <td>NaN</td>\n      <td>NaN</td>\n      <td>0</td>\n      <td>NaN</td>\n      <td>NaN</td>\n      <td>NaN</td>\n    </tr>\n  </tbody>\n</table>\n<p>128 rows × 11 columns</p>\n</div>"
     },
     "metadata": {},
     "output_type": "display_data"
    }
   ],
   "source": [
    "# Afficher les lignes avec des valeurs nulles ou manquantes\n",
    "null_values = df[df.isnull().any(axis=1)]\n",
    "display(null_values)"
   ]
  },
  {
   "cell_type": "code",
   "execution_count": 84,
   "id": "c5a8456a-2872-4eb3-9cfe-16a9e7bb35f8",
   "metadata": {
    "ExecuteTime": {
     "end_time": "2024-03-18T11:21:02.248131400Z",
     "start_time": "2024-03-18T11:21:01.981421200Z"
    }
   },
   "outputs": [
    {
     "name": "stdout",
     "output_type": "stream",
     "text": [
      "classe              0\n",
      "annee               0\n",
      "Code.département    0\n",
      "Code.région         0\n",
      "unité.de.compte     0\n",
      "millPOP             0\n",
      "millLOG             0\n",
      "faits               0\n",
      "POP                 0\n",
      "LOG                 0\n",
      "tauxpourmille       0\n",
      "dtype: int64\n"
     ]
    }
   ],
   "source": [
    "# Supprimer les lignes avec des valeurs nulles ou manquantes\n",
    "df = df.dropna()\n",
    "\n",
    "# Vérifier que les valeurs nulles ou manquantes ont été supprimées\n",
    "print(df.isnull().sum())"
   ]
  },
  {
   "cell_type": "code",
   "execution_count": 85,
   "id": "a9937185-d355-4166-994c-a8d06f43be65",
   "metadata": {
    "ExecuteTime": {
     "end_time": "2024-03-18T11:21:02.294362700Z",
     "start_time": "2024-03-18T11:21:02.032881Z"
    }
   },
   "outputs": [
    {
     "data": {
      "text/plain": "      classe  annee Code.département  Code.région unité.de.compte  millPOP  \\\n0  Homicides     16               01           84         victime     16.0   \n1  Homicides     16               02           32         victime     16.0   \n2  Homicides     16               03           84         victime     16.0   \n3  Homicides     16               04           93         victime     16.0   \n4  Homicides     16               05           93         victime     16.0   \n\n   millLOG  faits       POP            LOG  tauxpourmille  \n0     16.0      5  638425.0  308491.160051       0.007832  \n1     16.0     10  536136.0  264180.083605       0.018652  \n2     16.0      4  339384.0  206980.372668       0.011786  \n3     16.0      2  162565.0  126760.404256       0.012303  \n4     16.0      0  141107.0  134646.620960       0.000000  ",
      "text/html": "<div>\n<style scoped>\n    .dataframe tbody tr th:only-of-type {\n        vertical-align: middle;\n    }\n\n    .dataframe tbody tr th {\n        vertical-align: top;\n    }\n\n    .dataframe thead th {\n        text-align: right;\n    }\n</style>\n<table border=\"1\" class=\"dataframe\">\n  <thead>\n    <tr style=\"text-align: right;\">\n      <th></th>\n      <th>classe</th>\n      <th>annee</th>\n      <th>Code.département</th>\n      <th>Code.région</th>\n      <th>unité.de.compte</th>\n      <th>millPOP</th>\n      <th>millLOG</th>\n      <th>faits</th>\n      <th>POP</th>\n      <th>LOG</th>\n      <th>tauxpourmille</th>\n    </tr>\n  </thead>\n  <tbody>\n    <tr>\n      <th>0</th>\n      <td>Homicides</td>\n      <td>16</td>\n      <td>01</td>\n      <td>84</td>\n      <td>victime</td>\n      <td>16.0</td>\n      <td>16.0</td>\n      <td>5</td>\n      <td>638425.0</td>\n      <td>308491.160051</td>\n      <td>0.007832</td>\n    </tr>\n    <tr>\n      <th>1</th>\n      <td>Homicides</td>\n      <td>16</td>\n      <td>02</td>\n      <td>32</td>\n      <td>victime</td>\n      <td>16.0</td>\n      <td>16.0</td>\n      <td>10</td>\n      <td>536136.0</td>\n      <td>264180.083605</td>\n      <td>0.018652</td>\n    </tr>\n    <tr>\n      <th>2</th>\n      <td>Homicides</td>\n      <td>16</td>\n      <td>03</td>\n      <td>84</td>\n      <td>victime</td>\n      <td>16.0</td>\n      <td>16.0</td>\n      <td>4</td>\n      <td>339384.0</td>\n      <td>206980.372668</td>\n      <td>0.011786</td>\n    </tr>\n    <tr>\n      <th>3</th>\n      <td>Homicides</td>\n      <td>16</td>\n      <td>04</td>\n      <td>93</td>\n      <td>victime</td>\n      <td>16.0</td>\n      <td>16.0</td>\n      <td>2</td>\n      <td>162565.0</td>\n      <td>126760.404256</td>\n      <td>0.012303</td>\n    </tr>\n    <tr>\n      <th>4</th>\n      <td>Homicides</td>\n      <td>16</td>\n      <td>05</td>\n      <td>93</td>\n      <td>victime</td>\n      <td>16.0</td>\n      <td>16.0</td>\n      <td>0</td>\n      <td>141107.0</td>\n      <td>134646.620960</td>\n      <td>0.000000</td>\n    </tr>\n  </tbody>\n</table>\n</div>"
     },
     "execution_count": 85,
     "metadata": {},
     "output_type": "execute_result"
    }
   ],
   "source": [
    "# Convertir les valeurs de la colonne 'Code.région' en type entier \n",
    "df['Code.région'] = df['Code.région'].astype(int)\n",
    "\n",
    "# Afficher les premières lignes pour vérifier la transformation\n",
    "df.head()\n"
   ]
  },
  {
   "cell_type": "code",
   "execution_count": 86,
   "id": "993af942-4fd2-46fe-93c0-e2db01a6239b",
   "metadata": {
    "ExecuteTime": {
     "end_time": "2024-03-18T11:21:02.469956400Z",
     "start_time": "2024-03-18T11:21:02.256805300Z"
    }
   },
   "outputs": [
    {
     "data": {
      "text/plain": "      classe annee Code.département  Code.région unité.de.compte  millPOP  \\\n0  Homicides  2016               01           84         victime     16.0   \n1  Homicides  2016               02           32         victime     16.0   \n2  Homicides  2016               03           84         victime     16.0   \n3  Homicides  2016               04           93         victime     16.0   \n4  Homicides  2016               05           93         victime     16.0   \n\n   millLOG  faits       POP            LOG  tauxpourmille  \n0     16.0      5  638425.0  308491.160051       0.007832  \n1     16.0     10  536136.0  264180.083605       0.018652  \n2     16.0      4  339384.0  206980.372668       0.011786  \n3     16.0      2  162565.0  126760.404256       0.012303  \n4     16.0      0  141107.0  134646.620960       0.000000  ",
      "text/html": "<div>\n<style scoped>\n    .dataframe tbody tr th:only-of-type {\n        vertical-align: middle;\n    }\n\n    .dataframe tbody tr th {\n        vertical-align: top;\n    }\n\n    .dataframe thead th {\n        text-align: right;\n    }\n</style>\n<table border=\"1\" class=\"dataframe\">\n  <thead>\n    <tr style=\"text-align: right;\">\n      <th></th>\n      <th>classe</th>\n      <th>annee</th>\n      <th>Code.département</th>\n      <th>Code.région</th>\n      <th>unité.de.compte</th>\n      <th>millPOP</th>\n      <th>millLOG</th>\n      <th>faits</th>\n      <th>POP</th>\n      <th>LOG</th>\n      <th>tauxpourmille</th>\n    </tr>\n  </thead>\n  <tbody>\n    <tr>\n      <th>0</th>\n      <td>Homicides</td>\n      <td>2016</td>\n      <td>01</td>\n      <td>84</td>\n      <td>victime</td>\n      <td>16.0</td>\n      <td>16.0</td>\n      <td>5</td>\n      <td>638425.0</td>\n      <td>308491.160051</td>\n      <td>0.007832</td>\n    </tr>\n    <tr>\n      <th>1</th>\n      <td>Homicides</td>\n      <td>2016</td>\n      <td>02</td>\n      <td>32</td>\n      <td>victime</td>\n      <td>16.0</td>\n      <td>16.0</td>\n      <td>10</td>\n      <td>536136.0</td>\n      <td>264180.083605</td>\n      <td>0.018652</td>\n    </tr>\n    <tr>\n      <th>2</th>\n      <td>Homicides</td>\n      <td>2016</td>\n      <td>03</td>\n      <td>84</td>\n      <td>victime</td>\n      <td>16.0</td>\n      <td>16.0</td>\n      <td>4</td>\n      <td>339384.0</td>\n      <td>206980.372668</td>\n      <td>0.011786</td>\n    </tr>\n    <tr>\n      <th>3</th>\n      <td>Homicides</td>\n      <td>2016</td>\n      <td>04</td>\n      <td>93</td>\n      <td>victime</td>\n      <td>16.0</td>\n      <td>16.0</td>\n      <td>2</td>\n      <td>162565.0</td>\n      <td>126760.404256</td>\n      <td>0.012303</td>\n    </tr>\n    <tr>\n      <th>4</th>\n      <td>Homicides</td>\n      <td>2016</td>\n      <td>05</td>\n      <td>93</td>\n      <td>victime</td>\n      <td>16.0</td>\n      <td>16.0</td>\n      <td>0</td>\n      <td>141107.0</td>\n      <td>134646.620960</td>\n      <td>0.000000</td>\n    </tr>\n  </tbody>\n</table>\n</div>"
     },
     "execution_count": 86,
     "metadata": {},
     "output_type": "execute_result"
    }
   ],
   "source": [
    "# Ajouter les deux chiffres manquants pour obtenir une chaîne de quatre chiffres (année)\n",
    "df['annee'] = '20' + df['annee'].astype(str)\n",
    "\n",
    "df.head()\n"
   ]
  },
  {
   "cell_type": "code",
   "execution_count": 87,
   "id": "90573ea8-6647-41d8-9bff-5219c929ea36",
   "metadata": {
    "ExecuteTime": {
     "end_time": "2024-03-18T11:21:02.705701800Z",
     "start_time": "2024-03-18T11:21:02.474289200Z"
    }
   },
   "outputs": [
    {
     "data": {
      "text/plain": "                                         classe annee Code.département  \\\n0                                     Homicides  2016               01   \n1428             Coups et blessures volontaires  2022               01   \n10506  Destructions et dégradations volontaires  2023               01   \n10404  Destructions et dégradations volontaires  2022               01   \n1530             Coups et blessures volontaires  2023               01   \n...                                         ...   ...              ...   \n9178           Vols d'accessoires sur véhicules  2017              976   \n9280           Vols d'accessoires sur véhicules  2018              976   \n9382           Vols d'accessoires sur véhicules  2019              976   \n8056                          Vols de véhicules  2022              976   \n13054                      Usage de stupéfiants  2023              976   \n\n       Code.région unité.de.compte  millPOP  millLOG  faits       POP  \\\n0               84         victime     16.0     16.0      5  638425.0   \n1428            84         victime     21.0     20.0   2294  663202.0   \n10506           84      infraction     21.0     20.0   4120  663202.0   \n10404           84      infraction     21.0     20.0   4122  663202.0   \n1530            84         victime     21.0     20.0   2488  663202.0   \n...            ...             ...      ...      ...    ...       ...   \n9178             6        véhicule     17.0     17.0     91  256518.0   \n9280             6        véhicule     17.0     17.0     99  256518.0   \n9382             6        véhicule     17.0     17.0    105  256518.0   \n8056             6        véhicule     17.0     17.0    387  256518.0   \n13054            6    Mis en cause     17.0     17.0    221  256518.0   \n\n                 LOG  tauxpourmille  \n0      308491.160051       0.007832  \n1428   325430.939189       3.458976  \n10506  325430.939189       6.212285  \n10404  325430.939189       6.215301  \n1530   325430.939189       3.751497  \n...              ...            ...  \n9178    73880.000000       0.354751  \n9280    73880.000000       0.385938  \n9382    73880.000000       0.409328  \n8056    73880.000000       1.508666  \n13054   73880.000000       0.861538  \n\n[12928 rows x 11 columns]",
      "text/html": "<div>\n<style scoped>\n    .dataframe tbody tr th:only-of-type {\n        vertical-align: middle;\n    }\n\n    .dataframe tbody tr th {\n        vertical-align: top;\n    }\n\n    .dataframe thead th {\n        text-align: right;\n    }\n</style>\n<table border=\"1\" class=\"dataframe\">\n  <thead>\n    <tr style=\"text-align: right;\">\n      <th></th>\n      <th>classe</th>\n      <th>annee</th>\n      <th>Code.département</th>\n      <th>Code.région</th>\n      <th>unité.de.compte</th>\n      <th>millPOP</th>\n      <th>millLOG</th>\n      <th>faits</th>\n      <th>POP</th>\n      <th>LOG</th>\n      <th>tauxpourmille</th>\n    </tr>\n  </thead>\n  <tbody>\n    <tr>\n      <th>0</th>\n      <td>Homicides</td>\n      <td>2016</td>\n      <td>01</td>\n      <td>84</td>\n      <td>victime</td>\n      <td>16.0</td>\n      <td>16.0</td>\n      <td>5</td>\n      <td>638425.0</td>\n      <td>308491.160051</td>\n      <td>0.007832</td>\n    </tr>\n    <tr>\n      <th>1428</th>\n      <td>Coups et blessures volontaires</td>\n      <td>2022</td>\n      <td>01</td>\n      <td>84</td>\n      <td>victime</td>\n      <td>21.0</td>\n      <td>20.0</td>\n      <td>2294</td>\n      <td>663202.0</td>\n      <td>325430.939189</td>\n      <td>3.458976</td>\n    </tr>\n    <tr>\n      <th>10506</th>\n      <td>Destructions et dégradations volontaires</td>\n      <td>2023</td>\n      <td>01</td>\n      <td>84</td>\n      <td>infraction</td>\n      <td>21.0</td>\n      <td>20.0</td>\n      <td>4120</td>\n      <td>663202.0</td>\n      <td>325430.939189</td>\n      <td>6.212285</td>\n    </tr>\n    <tr>\n      <th>10404</th>\n      <td>Destructions et dégradations volontaires</td>\n      <td>2022</td>\n      <td>01</td>\n      <td>84</td>\n      <td>infraction</td>\n      <td>21.0</td>\n      <td>20.0</td>\n      <td>4122</td>\n      <td>663202.0</td>\n      <td>325430.939189</td>\n      <td>6.215301</td>\n    </tr>\n    <tr>\n      <th>1530</th>\n      <td>Coups et blessures volontaires</td>\n      <td>2023</td>\n      <td>01</td>\n      <td>84</td>\n      <td>victime</td>\n      <td>21.0</td>\n      <td>20.0</td>\n      <td>2488</td>\n      <td>663202.0</td>\n      <td>325430.939189</td>\n      <td>3.751497</td>\n    </tr>\n    <tr>\n      <th>...</th>\n      <td>...</td>\n      <td>...</td>\n      <td>...</td>\n      <td>...</td>\n      <td>...</td>\n      <td>...</td>\n      <td>...</td>\n      <td>...</td>\n      <td>...</td>\n      <td>...</td>\n      <td>...</td>\n    </tr>\n    <tr>\n      <th>9178</th>\n      <td>Vols d'accessoires sur véhicules</td>\n      <td>2017</td>\n      <td>976</td>\n      <td>6</td>\n      <td>véhicule</td>\n      <td>17.0</td>\n      <td>17.0</td>\n      <td>91</td>\n      <td>256518.0</td>\n      <td>73880.000000</td>\n      <td>0.354751</td>\n    </tr>\n    <tr>\n      <th>9280</th>\n      <td>Vols d'accessoires sur véhicules</td>\n      <td>2018</td>\n      <td>976</td>\n      <td>6</td>\n      <td>véhicule</td>\n      <td>17.0</td>\n      <td>17.0</td>\n      <td>99</td>\n      <td>256518.0</td>\n      <td>73880.000000</td>\n      <td>0.385938</td>\n    </tr>\n    <tr>\n      <th>9382</th>\n      <td>Vols d'accessoires sur véhicules</td>\n      <td>2019</td>\n      <td>976</td>\n      <td>6</td>\n      <td>véhicule</td>\n      <td>17.0</td>\n      <td>17.0</td>\n      <td>105</td>\n      <td>256518.0</td>\n      <td>73880.000000</td>\n      <td>0.409328</td>\n    </tr>\n    <tr>\n      <th>8056</th>\n      <td>Vols de véhicules</td>\n      <td>2022</td>\n      <td>976</td>\n      <td>6</td>\n      <td>véhicule</td>\n      <td>17.0</td>\n      <td>17.0</td>\n      <td>387</td>\n      <td>256518.0</td>\n      <td>73880.000000</td>\n      <td>1.508666</td>\n    </tr>\n    <tr>\n      <th>13054</th>\n      <td>Usage de stupéfiants</td>\n      <td>2023</td>\n      <td>976</td>\n      <td>6</td>\n      <td>Mis en cause</td>\n      <td>17.0</td>\n      <td>17.0</td>\n      <td>221</td>\n      <td>256518.0</td>\n      <td>73880.000000</td>\n      <td>0.861538</td>\n    </tr>\n  </tbody>\n</table>\n<p>12928 rows × 11 columns</p>\n</div>"
     },
     "metadata": {},
     "output_type": "display_data"
    }
   ],
   "source": [
    "# Trier les données par le code département\n",
    "df_sorted = df.sort_values(by='Code.département')\n",
    "\n",
    "# Afficher les données triées\n",
    "display(df_sorted)\n"
   ]
  },
  {
   "cell_type": "code",
   "outputs": [],
   "source": [
    "\n",
    "df_sorted['annee'] = df_sorted['annee'].astype(int)\n",
    "\n",
    "\n",
    "df_filtered = df_sorted.query('annee == 2022')\n"
   ],
   "metadata": {
    "collapsed": false,
    "ExecuteTime": {
     "end_time": "2024-03-18T11:21:02.797907700Z",
     "start_time": "2024-03-18T11:21:02.620905300Z"
    }
   },
   "id": "4da6d64a4b0896cc",
   "execution_count": 88
  },
  {
   "cell_type": "code",
   "outputs": [
    {
     "data": {
      "text/plain": "    code_departement  faits  tauxpourmille\n0                 01  24042      40.019948\n1                 02  22815      46.353383\n2                 03  12755      39.525169\n3                 04   7983      48.883914\n4                 05   6136      43.559041\n..               ...    ...            ...\n96               971  21520      57.679445\n97               972  17102      48.697300\n98               973  16595      64.998986\n99               974  30096      35.819339\n100              976  10938      46.957704\n\n[101 rows x 3 columns]",
      "text/html": "<div>\n<style scoped>\n    .dataframe tbody tr th:only-of-type {\n        vertical-align: middle;\n    }\n\n    .dataframe tbody tr th {\n        vertical-align: top;\n    }\n\n    .dataframe thead th {\n        text-align: right;\n    }\n</style>\n<table border=\"1\" class=\"dataframe\">\n  <thead>\n    <tr style=\"text-align: right;\">\n      <th></th>\n      <th>code_departement</th>\n      <th>faits</th>\n      <th>tauxpourmille</th>\n    </tr>\n  </thead>\n  <tbody>\n    <tr>\n      <th>0</th>\n      <td>01</td>\n      <td>24042</td>\n      <td>40.019948</td>\n    </tr>\n    <tr>\n      <th>1</th>\n      <td>02</td>\n      <td>22815</td>\n      <td>46.353383</td>\n    </tr>\n    <tr>\n      <th>2</th>\n      <td>03</td>\n      <td>12755</td>\n      <td>39.525169</td>\n    </tr>\n    <tr>\n      <th>3</th>\n      <td>04</td>\n      <td>7983</td>\n      <td>48.883914</td>\n    </tr>\n    <tr>\n      <th>4</th>\n      <td>05</td>\n      <td>6136</td>\n      <td>43.559041</td>\n    </tr>\n    <tr>\n      <th>...</th>\n      <td>...</td>\n      <td>...</td>\n      <td>...</td>\n    </tr>\n    <tr>\n      <th>96</th>\n      <td>971</td>\n      <td>21520</td>\n      <td>57.679445</td>\n    </tr>\n    <tr>\n      <th>97</th>\n      <td>972</td>\n      <td>17102</td>\n      <td>48.697300</td>\n    </tr>\n    <tr>\n      <th>98</th>\n      <td>973</td>\n      <td>16595</td>\n      <td>64.998986</td>\n    </tr>\n    <tr>\n      <th>99</th>\n      <td>974</td>\n      <td>30096</td>\n      <td>35.819339</td>\n    </tr>\n    <tr>\n      <th>100</th>\n      <td>976</td>\n      <td>10938</td>\n      <td>46.957704</td>\n    </tr>\n  </tbody>\n</table>\n<p>101 rows × 3 columns</p>\n</div>"
     },
     "execution_count": 89,
     "metadata": {},
     "output_type": "execute_result"
    }
   ],
   "source": [
    "# Regrouper par code département et effectuer la somme des colonnes nécessaires\n",
    "group_df = df_filtered.groupby(['Code.département', 'Code.région']).agg({\n",
    "    'faits': 'sum',\n",
    "    'tauxpourmille': 'sum'\n",
    "}).reset_index()\n",
    "\n",
    "# Sélectionner uniquement les colonnes requises\n",
    "group_df = group_df[['Code.département', 'faits', 'tauxpourmille']]\n",
    "\n",
    "# Afficher le DataFrame résultant\n",
    "group_df = group_df.rename(columns={'Code.département': 'code_departement'})\n",
    "group_df"
   ],
   "metadata": {
    "collapsed": false,
    "ExecuteTime": {
     "end_time": "2024-03-18T11:21:02.967528100Z",
     "start_time": "2024-03-18T11:21:02.803337800Z"
    }
   },
   "id": "b3388f70660d45ce",
   "execution_count": 89
  },
  {
   "cell_type": "code",
   "execution_count": 90,
   "id": "9406302db87879f2",
   "metadata": {
    "collapsed": false,
    "ExecuteTime": {
     "end_time": "2024-03-18T11:21:03.318082700Z",
     "start_time": "2024-03-18T11:21:03.049884800Z"
    }
   },
   "outputs": [],
   "source": [
    "sortie = './donnees/security.csv'\n",
    "group_df.to_csv(sortie, index=False)"
   ]
  }
 ],
 "metadata": {
  "kernelspec": {
   "display_name": "Python 3 (ipykernel)",
   "language": "python",
   "name": "python3"
  },
  "language_info": {
   "codemirror_mode": {
    "name": "ipython",
    "version": 3
   },
   "file_extension": ".py",
   "mimetype": "text/x-python",
   "name": "python",
   "nbconvert_exporter": "python",
   "pygments_lexer": "ipython3",
   "version": "3.11.5"
  }
 },
 "nbformat": 4,
 "nbformat_minor": 5
}
