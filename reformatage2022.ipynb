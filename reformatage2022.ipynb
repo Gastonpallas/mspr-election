{
 "cells": [
  {
   "cell_type": "code",
   "execution_count": 1,
   "metadata": {},
   "outputs": [],
   "source": [
    "import pandas as pd\n",
    "\n",
    "# Charger le fichier CSV\n",
    "df = pd.read_csv(\"/Users/sacha/Documents/Cours Epsi 2023/MSPR1/reformatage Données/election2022.csv\")\n",
    "\n",
    "# Pivoter la table pour mettre les partis politiques en colonnes\n",
    "df_pivot = df.pivot(index='code_departement', columns='parti_politique', values='voix').reset_index()\n",
    "\n",
    "# Renommer les colonnes\n",
    "df_pivot.columns.name = None  # Pour supprimer le nom de la colonne d'index\n",
    "df_pivot = df_pivot.rename_axis(None, axis=1)\n",
    "\n",
    "# Écrire le résultat dans un nouveau fichier CSV\n",
    "df_pivot.to_csv(\"election2022_reformate.csv\", index=False)\n",
    "\n",
    "# Créer une nouvelle colonne 'gagnant' pour stocker le parti ou l'option gagnant\n",
    "df_nouveau['gagnant'] = df_nouveau[['DLF', 'EELV', 'LFI', 'LO', 'LR', 'LREM', 'NPA', 'PCF', 'PS', 'RN', 'Reconuête', 'Résistons']].idxmax(axis=1)\n",
    "\n",
    "# Enregistrer le DataFrame avec la nouvelle colonne dans le même fichier\n",
    "df_nouveau.to_csv('/Users/sacha/Documents/Cours Epsi 2023/MSPR1/reformatage_Données/election2022_reformate.csv', index=False)\n",
    "\n",
    "# Afficher le DataFrame avec la nouvelle colonne\n",
    "print(df_nouveau)\n",
    "\n",
    "\n"
   ]
  }
 ],
 "metadata": {
  "kernelspec": {
   "display_name": "Python 3",
   "language": "python",
   "name": "python3"
  },
  "language_info": {
   "codemirror_mode": {
    "name": "ipython",
    "version": 3
   },
   "file_extension": ".py",
   "mimetype": "text/x-python",
   "name": "python",
   "nbconvert_exporter": "python",
   "pygments_lexer": "ipython3",
   "version": "3.11.6"
  }
 },
 "nbformat": 4,
 "nbformat_minor": 2
}
