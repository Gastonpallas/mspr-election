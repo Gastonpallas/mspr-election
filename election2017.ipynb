{
 "cells": [
  {
   "cell_type": "code",
   "execution_count": 42,
   "metadata": {
    "collapsed": true
   },
   "outputs": [],
   "source": [
    "import pandas as pd"
   ]
  },
  {
   "cell_type": "code",
   "execution_count": 43,
   "outputs": [],
   "source": [
    "df = pd.read_csv('https://www.data.gouv.fr/fr/datasets/r/db89a4c3-18b5-4c3a-bffc-d69cbc507997')"
   ],
   "metadata": {
    "collapsed": false
   }
  },
  {
   "cell_type": "code",
   "execution_count": 44,
   "outputs": [],
   "source": [
    "csv_data = df.to_csv()\n",
    "sortie = './donnees/election2017.csv'"
   ],
   "metadata": {
    "collapsed": false
   }
  },
  {
   "cell_type": "code",
   "execution_count": 45,
   "outputs": [
    {
     "name": "stdout",
     "output_type": "stream",
     "text": [
      "<class 'pandas.core.frame.DataFrame'>\n",
      "RangeIndex: 107 entries, 0 to 106\n",
      "Data columns (total 49 columns):\n",
      " #   Column             Non-Null Count  Dtype  \n",
      "---  ------             --------------  -----  \n",
      " 0   CodeDépartement    107 non-null    object \n",
      " 1   Département        107 non-null    object \n",
      " 2   Inscrits           107 non-null    int64  \n",
      " 3   Abstentions        107 non-null    int64  \n",
      " 4   Abstentions_ins    107 non-null    float64\n",
      " 5   Votants            107 non-null    int64  \n",
      " 6   Votants_ins        107 non-null    float64\n",
      " 7   Blancs             107 non-null    int64  \n",
      " 8   Blancs_ins         107 non-null    float64\n",
      " 9   Blancs_vot         107 non-null    float64\n",
      " 10  Nuls               107 non-null    int64  \n",
      " 11  Nuls_ins           107 non-null    float64\n",
      " 12  Nuls_vot           107 non-null    float64\n",
      " 13  Exprimés           107 non-null    int64  \n",
      " 14  Exprimés_ins       107 non-null    float64\n",
      " 15  Exprimés_vot       107 non-null    float64\n",
      " 16  LE PEN             107 non-null    int64  \n",
      " 17  MACRON             107 non-null    int64  \n",
      " 18  MÉLENCHON          107 non-null    int64  \n",
      " 19  FILLON             107 non-null    int64  \n",
      " 20  HAMON              107 non-null    int64  \n",
      " 21  DUPONT-AIGNAN      107 non-null    int64  \n",
      " 22  LASSALLE           107 non-null    int64  \n",
      " 23  POUTOU             107 non-null    int64  \n",
      " 24  ASSELINEAU         107 non-null    int64  \n",
      " 25  ARTHAUD            107 non-null    int64  \n",
      " 26  CHEMINADE          107 non-null    int64  \n",
      " 27  LE PEN.ins         107 non-null    float64\n",
      " 28  MACRON.ins         107 non-null    float64\n",
      " 29  MÉLENCHON.ins      107 non-null    float64\n",
      " 30  FILLON.ins         107 non-null    float64\n",
      " 31  HAMON.ins          107 non-null    float64\n",
      " 32  DUPONT-AIGNAN.ins  107 non-null    float64\n",
      " 33  LASSALLE.ins       107 non-null    float64\n",
      " 34  POUTOU.ins         107 non-null    float64\n",
      " 35  ASSELINEAU.ins     107 non-null    float64\n",
      " 36  ARTHAUD.ins        107 non-null    float64\n",
      " 37  CHEMINADE.ins      107 non-null    float64\n",
      " 38  LE PEN.exp         107 non-null    float64\n",
      " 39  MACRON.exp         107 non-null    float64\n",
      " 40  MÉLENCHON.exp      107 non-null    float64\n",
      " 41  FILLON.exp         107 non-null    float64\n",
      " 42  HAMON.exp          107 non-null    float64\n",
      " 43  DUPONT-AIGNAN.exp  107 non-null    float64\n",
      " 44  LASSALLE.exp       107 non-null    float64\n",
      " 45  POUTOU.exp         107 non-null    float64\n",
      " 46  ASSELINEAU.exp     107 non-null    float64\n",
      " 47  ARTHAUD.exp        107 non-null    float64\n",
      " 48  CHEMINADE.exp      107 non-null    float64\n",
      "dtypes: float64(30), int64(17), object(2)\n",
      "memory usage: 41.1+ KB\n"
     ]
    }
   ],
   "source": [
    "df.info()"
   ],
   "metadata": {
    "collapsed": false
   }
  },
  {
   "cell_type": "code",
   "execution_count": 46,
   "outputs": [],
   "source": [
    "colonnes_a_supprimer = ['Inscrits', 'Abstentions_ins', 'Votants_ins', 'Blancs_ins', 'Blancs_vot', 'Nuls_ins', 'Nuls_vot', 'Exprimés', 'Exprimés_ins', 'Exprimés_vot', 'LE PEN.ins', 'MACRON.ins', 'MÉLENCHON.ins', 'FILLON.ins', 'HAMON.ins', 'DUPONT-AIGNAN.ins', 'LASSALLE.ins', 'POUTOU.ins', 'ASSELINEAU.ins', 'ARTHAUD.ins', 'CHEMINADE.ins', 'LE PEN.exp', 'MACRON.exp', 'MÉLENCHON.exp', 'FILLON.exp', 'HAMON.exp', 'DUPONT-AIGNAN.exp', 'LASSALLE.exp', 'POUTOU.exp', 'ASSELINEAU.exp', 'ARTHAUD.exp', 'CHEMINADE.exp', 'Département', 'Votants']\n",
    "\n",
    "df1 = df.drop(columns=colonnes_a_supprimer)"
   ],
   "metadata": {
    "collapsed": false
   }
  },
  {
   "cell_type": "code",
   "execution_count": 47,
   "outputs": [],
   "source": [
    "df_transforme = pd.melt(df1, id_vars=['CodeDépartement'], var_name='nom', value_name='votes')\n",
    "df_transforme.columns = ['code_departement', 'nom', 'voix']\n",
    "df_transforme.replace(to_replace='Abstentions', value='abstentions', inplace=True)\n",
    "df_transforme.replace(to_replace='Blancs', value='blancs', inplace=True)\n",
    "df_transforme.replace(to_replace='Nuls', value='nuls', inplace=True)\n"
   ],
   "metadata": {
    "collapsed": false
   }
  },
  {
   "cell_type": "code",
   "execution_count": null,
   "outputs": [],
   "source": [
    "df = df.loc[df['code_departement'] != 'fr_etranger']\n"
   ],
   "metadata": {
    "collapsed": false
   }
  },
  {
   "cell_type": "code",
   "execution_count": 48,
   "outputs": [],
   "source": [
    "df_transforme.to_csv(sortie, index=False)"
   ],
   "metadata": {
    "collapsed": false
   }
  },
  {
   "cell_type": "code",
   "execution_count": 48,
   "outputs": [],
   "source": [],
   "metadata": {
    "collapsed": false
   }
  }
 ],
 "metadata": {
  "kernelspec": {
   "display_name": "Python 3",
   "language": "python",
   "name": "python3"
  },
  "language_info": {
   "codemirror_mode": {
    "name": "ipython",
    "version": 2
   },
   "file_extension": ".py",
   "mimetype": "text/x-python",
   "name": "python",
   "nbconvert_exporter": "python",
   "pygments_lexer": "ipython2",
   "version": "2.7.6"
  }
 },
 "nbformat": 4,
 "nbformat_minor": 0
}
