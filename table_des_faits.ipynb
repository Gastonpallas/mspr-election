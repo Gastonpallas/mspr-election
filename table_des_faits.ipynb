{
 "cells": [
  {
   "cell_type": "code",
   "execution_count": 5,
   "outputs": [],
   "source": [
    "import pandas as pd"
   ],
   "metadata": {
    "collapsed": false
   }
  },
  {
   "cell_type": "code",
   "execution_count": 6,
   "outputs": [],
   "source": [
    "pop = pd.read_excel('./donnees_brutes/Populations.xlsx')\n",
    "dep = pd.read_csv('./donnees_brutes/departements-france.csv')"
   ],
   "metadata": {
    "collapsed": false
   }
  },
  {
   "cell_type": "code",
   "execution_count": 7,
   "outputs": [
    {
     "data": {
      "text/plain": "   code_departement      Total          nom_departement  code_region  \\\n0                01   671937.0                      Ain           84   \n1                02   522791.0                    Aisne           32   \n2                03   332443.0                   Allier           84   \n3                04   166654.0  Alpes-de-Haute-Provence           93   \n4                05   139942.0             Hautes-Alpes           93   \n..              ...        ...                      ...          ...   \n91               91  1316053.0                  Essonne           11   \n92               92  1642002.0           Hauts-de-Seine           11   \n93               93  1682806.0        Seine-Saint-Denis           11   \n94               94  1426748.0             Val-de-Marne           11   \n95               95  1274374.0               Val-d'Oise           11   \n\n                    nom_region  \n0         Auvergne-Rhône-Alpes  \n1              Hauts-de-France  \n2         Auvergne-Rhône-Alpes  \n3   Provence-Alpes-Côte d'Azur  \n4   Provence-Alpes-Côte d'Azur  \n..                         ...  \n91               Île-de-France  \n92               Île-de-France  \n93               Île-de-France  \n94               Île-de-France  \n95               Île-de-France  \n\n[96 rows x 5 columns]",
      "text/html": "<div>\n<style scoped>\n    .dataframe tbody tr th:only-of-type {\n        vertical-align: middle;\n    }\n\n    .dataframe tbody tr th {\n        vertical-align: top;\n    }\n\n    .dataframe thead th {\n        text-align: right;\n    }\n</style>\n<table border=\"1\" class=\"dataframe\">\n  <thead>\n    <tr style=\"text-align: right;\">\n      <th></th>\n      <th>code_departement</th>\n      <th>Total</th>\n      <th>nom_departement</th>\n      <th>code_region</th>\n      <th>nom_region</th>\n    </tr>\n  </thead>\n  <tbody>\n    <tr>\n      <th>0</th>\n      <td>01</td>\n      <td>671937.0</td>\n      <td>Ain</td>\n      <td>84</td>\n      <td>Auvergne-Rhône-Alpes</td>\n    </tr>\n    <tr>\n      <th>1</th>\n      <td>02</td>\n      <td>522791.0</td>\n      <td>Aisne</td>\n      <td>32</td>\n      <td>Hauts-de-France</td>\n    </tr>\n    <tr>\n      <th>2</th>\n      <td>03</td>\n      <td>332443.0</td>\n      <td>Allier</td>\n      <td>84</td>\n      <td>Auvergne-Rhône-Alpes</td>\n    </tr>\n    <tr>\n      <th>3</th>\n      <td>04</td>\n      <td>166654.0</td>\n      <td>Alpes-de-Haute-Provence</td>\n      <td>93</td>\n      <td>Provence-Alpes-Côte d'Azur</td>\n    </tr>\n    <tr>\n      <th>4</th>\n      <td>05</td>\n      <td>139942.0</td>\n      <td>Hautes-Alpes</td>\n      <td>93</td>\n      <td>Provence-Alpes-Côte d'Azur</td>\n    </tr>\n    <tr>\n      <th>...</th>\n      <td>...</td>\n      <td>...</td>\n      <td>...</td>\n      <td>...</td>\n      <td>...</td>\n    </tr>\n    <tr>\n      <th>91</th>\n      <td>91</td>\n      <td>1316053.0</td>\n      <td>Essonne</td>\n      <td>11</td>\n      <td>Île-de-France</td>\n    </tr>\n    <tr>\n      <th>92</th>\n      <td>92</td>\n      <td>1642002.0</td>\n      <td>Hauts-de-Seine</td>\n      <td>11</td>\n      <td>Île-de-France</td>\n    </tr>\n    <tr>\n      <th>93</th>\n      <td>93</td>\n      <td>1682806.0</td>\n      <td>Seine-Saint-Denis</td>\n      <td>11</td>\n      <td>Île-de-France</td>\n    </tr>\n    <tr>\n      <th>94</th>\n      <td>94</td>\n      <td>1426748.0</td>\n      <td>Val-de-Marne</td>\n      <td>11</td>\n      <td>Île-de-France</td>\n    </tr>\n    <tr>\n      <th>95</th>\n      <td>95</td>\n      <td>1274374.0</td>\n      <td>Val-d'Oise</td>\n      <td>11</td>\n      <td>Île-de-France</td>\n    </tr>\n  </tbody>\n</table>\n<p>96 rows × 5 columns</p>\n</div>"
     },
     "execution_count": 7,
     "metadata": {},
     "output_type": "execute_result"
    }
   ],
   "source": [
    "merged_df = pd.merge(pop, dep, on='code_departement', how='inner')\n",
    "merged_df"
   ],
   "metadata": {
    "collapsed": false
   }
  },
  {
   "cell_type": "code",
   "execution_count": 10,
   "outputs": [],
   "source": [
    "merged_df = merged_df[['code_departement', 'nom_departement', 'Total']]"
   ],
   "metadata": {
    "collapsed": false
   }
  },
  {
   "cell_type": "code",
   "execution_count": 13,
   "outputs": [],
   "source": [
    "merged_df = merged_df.rename(columns={'Total': 'total_population'})"
   ],
   "metadata": {
    "collapsed": false
   }
  },
  {
   "cell_type": "code",
   "execution_count": 14,
   "outputs": [],
   "source": [
    "sortie = './donnees/tables_des_faits.csv'\n",
    "merged_df.to_csv(sortie, index=False)"
   ],
   "metadata": {
    "collapsed": false
   }
  },
  {
   "cell_type": "code",
   "execution_count": null,
   "outputs": [],
   "source": [],
   "metadata": {
    "collapsed": false
   }
  }
 ],
 "metadata": {
  "kernelspec": {
   "display_name": "Python 3",
   "language": "python",
   "name": "python3"
  },
  "language_info": {
   "codemirror_mode": {
    "name": "ipython",
    "version": 2
   },
   "file_extension": ".py",
   "mimetype": "text/x-python",
   "name": "python",
   "nbconvert_exporter": "python",
   "pygments_lexer": "ipython2",
   "version": "2.7.6"
  }
 },
 "nbformat": 4,
 "nbformat_minor": 0
}
