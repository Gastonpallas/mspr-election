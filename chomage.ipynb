{
 "cells": [
  {
   "cell_type": "code",
   "execution_count": null,
   "metadata": {
    "collapsed": true
   },
   "outputs": [],
   "source": [
    "import pandas as pd\n",
    "import warnings"
   ]
  },
  {
   "cell_type": "code",
   "execution_count": null,
   "metadata": {
    "collapsed": false
   },
   "outputs": [],
   "source": [
    "df = pd.read_csv('data/Taux de chomage par region.csv', sep=';')\n",
    "df.head()"
   ]
  },
  {
   "cell_type": "code",
   "execution_count": null,
   "metadata": {},
   "outputs": [],
   "source": [
    "df[df.columns[~df.columns.isin(['Libellé', '1982-T2'])]]\n",
    "df = df[df['Libellé'] != 'Codes']\n",
    "\n",
    "#df2 = df[['Libellé', '2022-T1','2022-T2', '2022-T3', '2022-T4']]\n",
    "df_mean = df[['Libellé', '2022-T1','2022-T2', '2022-T3', '2022-T4']]\n",
    "\n",
    "with warnings.catch_warnings():\n",
    "    warnings.simplefilter(\"ignore\")\n",
    "    df_mean.loc[:, -1] = df_mean.loc[:, '2022-T1'].astype(float)\n",
    "    df_mean.loc[:, -2] = df_mean.loc[:, '2022-T2'].astype(float)\n",
    "    df_mean.loc[:, -3] = df_mean.loc[:, '2022-T3'].astype(float)\n",
    "    df_mean.loc[:, -4] = df_mean.loc[:, '2022-T4'].astype(float)\n",
    "    df_mean['2022'] = df_mean.mean(axis=1)\n",
    "    df_mean= df_mean[['Libellé', '2022']]\n",
    "    df_mean = df_mean[~df_mean['Libellé'].str.contains('région')]\n",
    "    df_mean['Libellé'] = df_mean['Libellé'].str.replace('Taux de chômage localisé par département - ', '')\n",
    "\n",
    "df_mean"
   ]
  }
 ],
 "metadata": {
  "kernelspec": {
   "display_name": "Python 3",
   "language": "python",
   "name": "python3"
  },
  "language_info": {
   "codemirror_mode": {
    "name": "ipython",
    "version": 3
   },
   "file_extension": ".py",
   "mimetype": "text/x-python",
   "name": "python",
   "nbconvert_exporter": "python",
   "pygments_lexer": "ipython3",
   "version": "3.11.7"
  }
 },
 "nbformat": 4,
 "nbformat_minor": 0
}
