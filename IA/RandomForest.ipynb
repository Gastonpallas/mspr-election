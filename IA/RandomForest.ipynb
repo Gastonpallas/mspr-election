{
 "cells": [
  {
   "cell_type": "code",
   "execution_count": 69,
   "metadata": {
    "collapsed": true
   },
   "outputs": [],
   "source": [
    "import pandas as pd\n",
    "from sklearn.ensemble import RandomForestClassifier\n",
    "from sklearn.model_selection import cross_val_predict\n",
    "from sklearn.model_selection import cross_val_score"
   ]
  },
  {
   "cell_type": "code",
   "execution_count": 70,
   "outputs": [],
   "source": [
    "# Step 1: Load and preprocess data\n",
    "data = pd.read_csv(\"./merge_v4_0.csv\", delimiter=\";\")"
   ],
   "metadata": {
    "collapsed": false
   }
  },
  {
   "cell_type": "code",
   "execution_count": 71,
   "outputs": [],
   "source": [
    "# Separate data for prediction and training\n",
    "data_to_predict = data.loc[data['Code département'] == 33]\n",
    "data_to_predict = data_to_predict.drop(columns=[\"DLF\", \"EELV\", \"LFI\", \"LO\", \"LR\", \"LREM\", \"NPA\", \"PCF\", \"PS\", \"RN\", \"Reconuête\", \"Résistons\", \"abstentions\", \"blancs\", \"nuls\", \"Code département\", \"Département\", \"Gagnant\", \"Nombre de crimes & délits\"])  # Features\n",
    "data = data.loc[data['Code département'] != 33]"
   ],
   "metadata": {
    "collapsed": false
   }
  },
  {
   "cell_type": "code",
   "execution_count": 72,
   "outputs": [],
   "source": [
    "# Prepare features and target variables\n",
    "x = data.drop(columns=[\"DLF\", \"EELV\", \"LFI\", \"LO\", \"LR\", \"LREM\", \"NPA\", \"PCF\", \"PS\", \"RN\", \"Reconuête\", \"Résistons\", \"abstentions\", \"blancs\", \"nuls\", \"Code département\", \"Département\", \"Gagnant\", \"Nombre de crimes & délits\"])  # Features\n",
    "y = data[\"Gagnant\"]"
   ],
   "metadata": {
    "collapsed": false
   }
  },
  {
   "cell_type": "code",
   "execution_count": 73,
   "outputs": [
    {
     "name": "stderr",
     "output_type": "stream",
     "text": [
      "C:\\Users\\palla\\anaconda3\\lib\\site-packages\\sklearn\\model_selection\\_split.py:676: UserWarning: The least populated class in y has only 1 members, which is less than n_splits=30.\n",
      "  warnings.warn(\n",
      "C:\\Users\\palla\\anaconda3\\lib\\site-packages\\sklearn\\model_selection\\_split.py:676: UserWarning: The least populated class in y has only 1 members, which is less than n_splits=30.\n",
      "  warnings.warn(\n"
     ]
    },
    {
     "name": "stdout",
     "output_type": "stream",
     "text": [
      "Cross-validated predictions: ['LREM' 'RN' 'RN' 'RN' 'RN' 'LREM' 'RN' 'RN' 'RN' 'RN' 'RN' 'LREM' 'RN'\n",
      " 'LREM' 'RN' 'LREM' 'LREM' 'RN' 'RN' 'LREM' 'LREM' 'LREM' 'RN' 'LREM' 'RN'\n",
      " 'LREM' 'LREM' 'LREM' 'RN' 'RN' 'RN' 'RN' 'LREM' 'RN' 'LREM' 'LREM' 'LREM'\n",
      " 'LREM' 'LREM' 'RN' 'LREM' 'LREM' 'LREM' 'RN' 'RN' 'LREM' 'LREM' 'LREM'\n",
      " 'RN' 'LREM' 'LREM' 'LREM' 'RN' 'LREM' 'RN' 'RN' 'RN' 'RN' 'LREM' 'RN'\n",
      " 'LREM' 'LREM' 'RN' 'RN' 'LREM' 'LREM' 'LREM' 'LREM' 'LREM' 'RN' 'LREM'\n",
      " 'LREM' 'LREM' 'RN' 'LREM' 'LREM' 'LREM' 'RN' 'RN' 'RN' 'RN' 'RN' 'LREM'\n",
      " 'LREM' 'LREM' 'RN' 'LREM' 'LREM' 'LREM' 'LFI' 'RN' 'RN']\n",
      "Cross-validation scores: [0.5        0.75       0.66666667 0.33333333 1.         0.66666667\n",
      " 0.66666667 0.66666667 1.         1.         0.33333333 0.66666667\n",
      " 0.66666667 0.66666667 1.         1.         0.66666667 0.66666667\n",
      " 0.66666667 0.33333333 0.66666667 1.         1.         0.66666667\n",
      " 0.66666667 1.         0.66666667 0.66666667 1.         0.33333333]\n",
      "Predicted values for data_to_predict: ['LREM']\n",
      "Average accuracy: 0.7194444444444446\n"
     ]
    }
   ],
   "source": [
    "# Initialize the model\n",
    "modele_rf = RandomForestClassifier(\n",
    "    n_estimators=100,\n",
    "    criterion='gini',\n",
    "    max_depth=None,\n",
    "    min_samples_split=2,\n",
    "    min_samples_leaf=1,\n",
    "    min_weight_fraction_leaf=0.0,\n",
    "    max_features=None,\n",
    "    max_leaf_nodes=None,\n",
    "    min_impurity_decrease=0.0,\n",
    "    bootstrap=True,\n",
    "    oob_score=False,\n",
    "    n_jobs=None,\n",
    "    random_state=42,\n",
    "    verbose=0,\n",
    "    warm_start=False,\n",
    "    class_weight=None,\n",
    "    ccp_alpha=0.0,\n",
    "    max_samples=None)\n",
    "\n",
    "# Perform cross-validation predictions\n",
    "cv_predictions = cross_val_predict(modele_rf, x, y, cv=30)\n",
    "\n",
    "# Calculate cross-validation scores\n",
    "scores = cross_val_score(modele_rf, x, y, cv=30)\n",
    "\n",
    "# Fit the model on the entire dataset\n",
    "modele_rf.fit(x, y)\n",
    "\n",
    "# Predict values for data_to_predict\n",
    "predictions = modele_rf.predict(data_to_predict)\n",
    "\n",
    "print(\"Cross-validated predictions:\", cv_predictions)\n",
    "print(\"Cross-validation scores:\", scores)\n",
    "print(\"Predicted values for data_to_predict:\", predictions)\n",
    "print(\"Average accuracy:\", scores.mean())\n"
   ],
   "metadata": {
    "collapsed": false
   }
  }
 ],
 "metadata": {
  "kernelspec": {
   "display_name": "Python 3",
   "language": "python",
   "name": "python3"
  },
  "language_info": {
   "codemirror_mode": {
    "name": "ipython",
    "version": 2
   },
   "file_extension": ".py",
   "mimetype": "text/x-python",
   "name": "python",
   "nbconvert_exporter": "python",
   "pygments_lexer": "ipython2",
   "version": "2.7.6"
  }
 },
 "nbformat": 4,
 "nbformat_minor": 0
}
