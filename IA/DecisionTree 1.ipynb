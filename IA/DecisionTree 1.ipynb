{
 "cells": [
  {
   "cell_type": "code",
   "outputs": [],
   "source": [
    "# importing libraries \n",
    "import pandas as pd\n",
    "import numpy as np\n",
    "from sklearn.preprocessing import LabelEncoder\n",
    "from sklearn.tree import DecisionTreeClassifier\n",
    "from sklearn.model_selection import train_test_split\n",
    "import matplotlib.pyplot as plt\n",
    "from sklearn.model_selection import cross_val_score\n",
    "from sklearn.preprocessing import label_binarize\n",
    "from sklearn import metrics\n"
   ],
   "metadata": {
    "collapsed": false,
    "ExecuteTime": {
     "end_time": "2024-04-23T14:33:45.381120700Z",
     "start_time": "2024-04-23T14:33:45.339765300Z"
    }
   },
   "id": "da6e59d2da189a9d",
   "execution_count": 269
  },
  {
   "cell_type": "code",
   "execution_count": 270,
   "id": "a42ff48afb8909ff",
   "metadata": {
    "collapsed": false,
    "ExecuteTime": {
     "end_time": "2024-04-23T14:33:45.537868900Z",
     "start_time": "2024-04-23T14:33:45.399062600Z"
    }
   },
   "outputs": [
    {
     "data": {
      "text/plain": "  code_departement    faits  tauxpourmille   DLF   EELV    LFI    LO     LR  \\\n0              01   24042.0           40.0  8998  15843  57832  1658  17572   \n1              02   22815.0           46.4  5790   7074  41172  2038  10920   \n2              03   12755.0           39.5  4216   5982  31013  1359  10319   \n3              04    7983.0           48.9  2504   3957  21856   505   3834   \n4              05    6136.0           43.6  2142   5013  19718   428   4511   \n\n    LREM   NPA  ...    PS      RN  ReconuÃªte  RÃ©sistons  abstentions  \\\n0  92206  2172  ...  5644   86755       27530       10876        97541   \n1  58721  2118  ...  2983  104342       18266        6468       101089   \n2  49706  1503  ...  3280   50315       12361        7782        58497   \n3  20800   865  ...  1396   26010        7926        4309        29290   \n4  20507   801  ...  1459   19696        6164        3871        25357   \n\n   blancs  nuls  gagnant          nom_departement total_population  \n0    5641  1903     LREM  Ain                             671937.0  \n1    3767  2828     RN    Aisne                           522791.0  \n2    3749  1790     RN    Allier                          332443.0  \n3    1478   624     RN    Alpes-de-Haute-Provence         166654.0  \n4    1395   532     LREM  Hautes-Alpes                    139942.0  \n\n[5 rows x 21 columns]",
      "text/html": "<div>\n<style scoped>\n    .dataframe tbody tr th:only-of-type {\n        vertical-align: middle;\n    }\n\n    .dataframe tbody tr th {\n        vertical-align: top;\n    }\n\n    .dataframe thead th {\n        text-align: right;\n    }\n</style>\n<table border=\"1\" class=\"dataframe\">\n  <thead>\n    <tr style=\"text-align: right;\">\n      <th></th>\n      <th>code_departement</th>\n      <th>faits</th>\n      <th>tauxpourmille</th>\n      <th>DLF</th>\n      <th>EELV</th>\n      <th>LFI</th>\n      <th>LO</th>\n      <th>LR</th>\n      <th>LREM</th>\n      <th>NPA</th>\n      <th>...</th>\n      <th>PS</th>\n      <th>RN</th>\n      <th>ReconuÃªte</th>\n      <th>RÃ©sistons</th>\n      <th>abstentions</th>\n      <th>blancs</th>\n      <th>nuls</th>\n      <th>gagnant</th>\n      <th>nom_departement</th>\n      <th>total_population</th>\n    </tr>\n  </thead>\n  <tbody>\n    <tr>\n      <th>0</th>\n      <td>01</td>\n      <td>24042.0</td>\n      <td>40.0</td>\n      <td>8998</td>\n      <td>15843</td>\n      <td>57832</td>\n      <td>1658</td>\n      <td>17572</td>\n      <td>92206</td>\n      <td>2172</td>\n      <td>...</td>\n      <td>5644</td>\n      <td>86755</td>\n      <td>27530</td>\n      <td>10876</td>\n      <td>97541</td>\n      <td>5641</td>\n      <td>1903</td>\n      <td>LREM</td>\n      <td>Ain</td>\n      <td>671937.0</td>\n    </tr>\n    <tr>\n      <th>1</th>\n      <td>02</td>\n      <td>22815.0</td>\n      <td>46.4</td>\n      <td>5790</td>\n      <td>7074</td>\n      <td>41172</td>\n      <td>2038</td>\n      <td>10920</td>\n      <td>58721</td>\n      <td>2118</td>\n      <td>...</td>\n      <td>2983</td>\n      <td>104342</td>\n      <td>18266</td>\n      <td>6468</td>\n      <td>101089</td>\n      <td>3767</td>\n      <td>2828</td>\n      <td>RN</td>\n      <td>Aisne</td>\n      <td>522791.0</td>\n    </tr>\n    <tr>\n      <th>2</th>\n      <td>03</td>\n      <td>12755.0</td>\n      <td>39.5</td>\n      <td>4216</td>\n      <td>5982</td>\n      <td>31013</td>\n      <td>1359</td>\n      <td>10319</td>\n      <td>49706</td>\n      <td>1503</td>\n      <td>...</td>\n      <td>3280</td>\n      <td>50315</td>\n      <td>12361</td>\n      <td>7782</td>\n      <td>58497</td>\n      <td>3749</td>\n      <td>1790</td>\n      <td>RN</td>\n      <td>Allier</td>\n      <td>332443.0</td>\n    </tr>\n    <tr>\n      <th>3</th>\n      <td>04</td>\n      <td>7983.0</td>\n      <td>48.9</td>\n      <td>2504</td>\n      <td>3957</td>\n      <td>21856</td>\n      <td>505</td>\n      <td>3834</td>\n      <td>20800</td>\n      <td>865</td>\n      <td>...</td>\n      <td>1396</td>\n      <td>26010</td>\n      <td>7926</td>\n      <td>4309</td>\n      <td>29290</td>\n      <td>1478</td>\n      <td>624</td>\n      <td>RN</td>\n      <td>Alpes-de-Haute-Provence</td>\n      <td>166654.0</td>\n    </tr>\n    <tr>\n      <th>4</th>\n      <td>05</td>\n      <td>6136.0</td>\n      <td>43.6</td>\n      <td>2142</td>\n      <td>5013</td>\n      <td>19718</td>\n      <td>428</td>\n      <td>4511</td>\n      <td>20507</td>\n      <td>801</td>\n      <td>...</td>\n      <td>1459</td>\n      <td>19696</td>\n      <td>6164</td>\n      <td>3871</td>\n      <td>25357</td>\n      <td>1395</td>\n      <td>532</td>\n      <td>LREM</td>\n      <td>Hautes-Alpes</td>\n      <td>139942.0</td>\n    </tr>\n  </tbody>\n</table>\n<p>5 rows × 21 columns</p>\n</div>"
     },
     "execution_count": 270,
     "metadata": {},
     "output_type": "execute_result"
    }
   ],
   "source": [
    "# load data \n",
    "df = pd.read_csv('MergeElection2022_Faits_Securite.csv', sep = ';', encoding='ISO-8859-1')\n",
    "\n",
    "# Display the first few rows \n",
    "df.head()"
   ]
  },
  {
   "cell_type": "code",
   "execution_count": 271,
   "id": "260f88366af0ec61",
   "metadata": {
    "collapsed": false,
    "ExecuteTime": {
     "end_time": "2024-04-23T14:33:45.561330800Z",
     "start_time": "2024-04-23T14:33:45.508122400Z"
    }
   },
   "outputs": [
    {
     "data": {
      "text/plain": "Index(['code_departement', 'faits', 'tauxpourmille', 'DLF', 'EELV', 'LFI',\n       'LO', 'LR', 'LREM', 'NPA', 'PCF', 'PS', 'RN', 'ReconuÃªte',\n       'RÃ©sistons', 'abstentions', 'blancs', 'nuls', 'gagnant',\n       'nom_departement', 'total_population'],\n      dtype='object')"
     },
     "execution_count": 271,
     "metadata": {},
     "output_type": "execute_result"
    }
   ],
   "source": [
    "df.columns"
   ]
  },
  {
   "cell_type": "code",
   "execution_count": 272,
   "id": "a48686d94d5e7afc",
   "metadata": {
    "collapsed": false,
    "ExecuteTime": {
     "end_time": "2024-04-23T14:33:45.651901200Z",
     "start_time": "2024-04-23T14:33:45.544920800Z"
    }
   },
   "outputs": [],
   "source": [
    "# Encoding categorical variables\n",
    "# transforme les variables catégorielles en nombre car c'est nécessaire pour la plus part des algorithme de ML étant donnée qu'ils requièrent des entrés numériques \n",
    "\n",
    "label_encoders = {}\n",
    "for column in df.select_dtypes(include=['object']).columns:\n",
    "    le = LabelEncoder()\n",
    "    df[column] = le.fit_transform(df[column].astype(str))\n",
    "    label_encoders[column] = le"
   ]
  },
  {
   "cell_type": "code",
   "execution_count": 273,
   "id": "456ca31a67f31af8",
   "metadata": {
    "collapsed": false,
    "ExecuteTime": {
     "end_time": "2024-04-23T14:33:45.720914900Z",
     "start_time": "2024-04-23T14:33:45.629272900Z"
    }
   },
   "outputs": [],
   "source": [
    "# preparation de l'ensemble de données \n",
    "# on divise les donnée en features (X) and target (y) \n",
    "X = df.drop('gagnant', axis=1)  \n",
    "y = df['gagnant']"
   ]
  },
  {
   "cell_type": "code",
   "execution_count": 274,
   "id": "8d6b0cf349137060",
   "metadata": {
    "collapsed": false,
    "ExecuteTime": {
     "end_time": "2024-04-23T14:33:45.914572900Z",
     "start_time": "2024-04-23T14:33:45.738913200Z"
    }
   },
   "outputs": [],
   "source": [
    "# splitting data\n",
    "# divise les données en ensemble de test et d'entrainement\n",
    "X_train, X_test, y_train, y_test = train_test_split(X, y, test_size = 0.2, random_state =42)"
   ]
  },
  {
   "cell_type": "code",
   "execution_count": 275,
   "id": "ad4b181931d2faf3",
   "metadata": {
    "collapsed": false,
    "ExecuteTime": {
     "end_time": "2024-04-23T14:33:45.988009200Z",
     "start_time": "2024-04-23T14:33:45.919351Z"
    }
   },
   "outputs": [],
   "source": [
    "# MODEL TRAINING "
   ]
  },
  {
   "cell_type": "code",
   "execution_count": 276,
   "id": "53d2cb37cdc25922",
   "metadata": {
    "collapsed": false,
    "ExecuteTime": {
     "end_time": "2024-04-23T14:33:46.124947700Z",
     "start_time": "2024-04-23T14:33:45.992306900Z"
    }
   },
   "outputs": [],
   "source": [
    "##\n",
    "##  Decision Tree With Gini Criterion\n",
    "## \n",
    "### on commence par créer et entrainer le classificateur d'arbre de decision en utilisant les critéres Gini "
   ]
  },
  {
   "cell_type": "code",
   "execution_count": 277,
   "id": "fc9bea123a047242",
   "metadata": {
    "collapsed": false,
    "ExecuteTime": {
     "end_time": "2024-04-23T14:33:46.211393Z",
     "start_time": "2024-04-23T14:33:46.095769200Z"
    }
   },
   "outputs": [
    {
     "data": {
      "text/plain": "DecisionTreeClassifier(random_state=42)",
      "text/html": "<style>#sk-container-id-25 {color: black;}#sk-container-id-25 pre{padding: 0;}#sk-container-id-25 div.sk-toggleable {background-color: white;}#sk-container-id-25 label.sk-toggleable__label {cursor: pointer;display: block;width: 100%;margin-bottom: 0;padding: 0.3em;box-sizing: border-box;text-align: center;}#sk-container-id-25 label.sk-toggleable__label-arrow:before {content: \"▸\";float: left;margin-right: 0.25em;color: #696969;}#sk-container-id-25 label.sk-toggleable__label-arrow:hover:before {color: black;}#sk-container-id-25 div.sk-estimator:hover label.sk-toggleable__label-arrow:before {color: black;}#sk-container-id-25 div.sk-toggleable__content {max-height: 0;max-width: 0;overflow: hidden;text-align: left;background-color: #f0f8ff;}#sk-container-id-25 div.sk-toggleable__content pre {margin: 0.2em;color: black;border-radius: 0.25em;background-color: #f0f8ff;}#sk-container-id-25 input.sk-toggleable__control:checked~div.sk-toggleable__content {max-height: 200px;max-width: 100%;overflow: auto;}#sk-container-id-25 input.sk-toggleable__control:checked~label.sk-toggleable__label-arrow:before {content: \"▾\";}#sk-container-id-25 div.sk-estimator input.sk-toggleable__control:checked~label.sk-toggleable__label {background-color: #d4ebff;}#sk-container-id-25 div.sk-label input.sk-toggleable__control:checked~label.sk-toggleable__label {background-color: #d4ebff;}#sk-container-id-25 input.sk-hidden--visually {border: 0;clip: rect(1px 1px 1px 1px);clip: rect(1px, 1px, 1px, 1px);height: 1px;margin: -1px;overflow: hidden;padding: 0;position: absolute;width: 1px;}#sk-container-id-25 div.sk-estimator {font-family: monospace;background-color: #f0f8ff;border: 1px dotted black;border-radius: 0.25em;box-sizing: border-box;margin-bottom: 0.5em;}#sk-container-id-25 div.sk-estimator:hover {background-color: #d4ebff;}#sk-container-id-25 div.sk-parallel-item::after {content: \"\";width: 100%;border-bottom: 1px solid gray;flex-grow: 1;}#sk-container-id-25 div.sk-label:hover label.sk-toggleable__label {background-color: #d4ebff;}#sk-container-id-25 div.sk-serial::before {content: \"\";position: absolute;border-left: 1px solid gray;box-sizing: border-box;top: 0;bottom: 0;left: 50%;z-index: 0;}#sk-container-id-25 div.sk-serial {display: flex;flex-direction: column;align-items: center;background-color: white;padding-right: 0.2em;padding-left: 0.2em;position: relative;}#sk-container-id-25 div.sk-item {position: relative;z-index: 1;}#sk-container-id-25 div.sk-parallel {display: flex;align-items: stretch;justify-content: center;background-color: white;position: relative;}#sk-container-id-25 div.sk-item::before, #sk-container-id-25 div.sk-parallel-item::before {content: \"\";position: absolute;border-left: 1px solid gray;box-sizing: border-box;top: 0;bottom: 0;left: 50%;z-index: -1;}#sk-container-id-25 div.sk-parallel-item {display: flex;flex-direction: column;z-index: 1;position: relative;background-color: white;}#sk-container-id-25 div.sk-parallel-item:first-child::after {align-self: flex-end;width: 50%;}#sk-container-id-25 div.sk-parallel-item:last-child::after {align-self: flex-start;width: 50%;}#sk-container-id-25 div.sk-parallel-item:only-child::after {width: 0;}#sk-container-id-25 div.sk-dashed-wrapped {border: 1px dashed gray;margin: 0 0.4em 0.5em 0.4em;box-sizing: border-box;padding-bottom: 0.4em;background-color: white;}#sk-container-id-25 div.sk-label label {font-family: monospace;font-weight: bold;display: inline-block;line-height: 1.2em;}#sk-container-id-25 div.sk-label-container {text-align: center;}#sk-container-id-25 div.sk-container {/* jupyter's `normalize.less` sets `[hidden] { display: none; }` but bootstrap.min.css set `[hidden] { display: none !important; }` so we also need the `!important` here to be able to override the default hidden behavior on the sphinx rendered scikit-learn.org. See: https://github.com/scikit-learn/scikit-learn/issues/21755 */display: inline-block !important;position: relative;}#sk-container-id-25 div.sk-text-repr-fallback {display: none;}</style><div id=\"sk-container-id-25\" class=\"sk-top-container\"><div class=\"sk-text-repr-fallback\"><pre>DecisionTreeClassifier(random_state=42)</pre><b>In a Jupyter environment, please rerun this cell to show the HTML representation or trust the notebook. <br />On GitHub, the HTML representation is unable to render, please try loading this page with nbviewer.org.</b></div><div class=\"sk-container\" hidden><div class=\"sk-item\"><div class=\"sk-estimator sk-toggleable\"><input class=\"sk-toggleable__control sk-hidden--visually\" id=\"sk-estimator-id-41\" type=\"checkbox\" checked><label for=\"sk-estimator-id-41\" class=\"sk-toggleable__label sk-toggleable__label-arrow\">DecisionTreeClassifier</label><div class=\"sk-toggleable__content\"><pre>DecisionTreeClassifier(random_state=42)</pre></div></div></div></div></div>"
     },
     "execution_count": 277,
     "metadata": {},
     "output_type": "execute_result"
    }
   ],
   "source": [
    "# Create and Train the model \n",
    "### on commence par créer et entrainer le classificateur d'arbre de decision en utilisant les critéres Gini \n",
    "\n",
    "model = DecisionTreeClassifier(criterion='gini', splitter = 'best', random_state= 42)\n",
    "model.fit(X_train, y_train)"
   ]
  },
  {
   "cell_type": "code",
   "execution_count": 278,
   "id": "3fb563ab1b6efac9",
   "metadata": {
    "collapsed": false,
    "ExecuteTime": {
     "end_time": "2024-04-23T14:33:46.347713600Z",
     "start_time": "2024-04-23T14:33:46.148366300Z"
    }
   },
   "outputs": [
    {
     "name": "stdout",
     "output_type": "stream",
     "text": [
      "Cross-Validated Accuracies: [0.57142857 0.52380952 0.66666667 0.6        0.2       ]\n"
     ]
    }
   ],
   "source": [
    "# using cross validation for more stable estimates \n",
    "accuracies = cross_val_score(model, X, y, cv=5)  # 5-fold cross-validation\n",
    "print(\"Cross-Validated Accuracies:\", accuracies)"
   ]
  },
  {
   "cell_type": "code",
   "execution_count": 279,
   "id": "71724eabf7b09c7",
   "metadata": {
    "collapsed": false,
    "ExecuteTime": {
     "end_time": "2024-04-23T14:33:46.400231200Z",
     "start_time": "2024-04-23T14:33:46.279874800Z"
    }
   },
   "outputs": [
    {
     "name": "stdout",
     "output_type": "stream",
     "text": [
      "Accuracy = 0.619048\n",
      "F1 Score = 0.563889\n",
      "Precision Score = 0.555556\n"
     ]
    }
   ],
   "source": [
    "# Predictions\n",
    "# on évalue le modele sur l'ensemble de test, en utulisant plusieurs métrics \n",
    "y_test_pred = model.predict(X_test)\n",
    "y_train_pred = model.predict(X_train)\n",
    "\n",
    "# Handling multiclass metrics calculations\n",
    "accuracy = metrics.accuracy_score(y_test, y_test_pred)\n",
    "f1 = metrics.f1_score(y_test, y_test_pred, average='macro', zero_division=0)  # Handle classes with no predictions\n",
    "precision = metrics.precision_score(y_test, y_test_pred, average='macro', zero_division=0)\n",
    "\n",
    "# Printing results\n",
    "print(\"Accuracy = %f\" % accuracy)\n",
    "print(\"F1 Score = %f\" % f1)\n",
    "print(\"Precision Score = %f\" % precision)"
   ]
  },
  {
   "cell_type": "code",
   "execution_count": 280,
   "id": "2159ed268537df4f",
   "metadata": {
    "collapsed": false,
    "ExecuteTime": {
     "end_time": "2024-04-23T14:33:46.573197300Z",
     "start_time": "2024-04-23T14:33:46.414486700Z"
    }
   },
   "outputs": [],
   "source": [
    "## \n",
    "## Decision Tree With Entropy Criterion\n",
    "##"
   ]
  },
  {
   "cell_type": "code",
   "execution_count": 281,
   "id": "cafddf1b2a7dcb31",
   "metadata": {
    "collapsed": false,
    "ExecuteTime": {
     "end_time": "2024-04-23T14:33:46.613998400Z",
     "start_time": "2024-04-23T14:33:46.542848600Z"
    }
   },
   "outputs": [
    {
     "data": {
      "text/plain": "DecisionTreeClassifier(criterion='entropy', random_state=42)",
      "text/html": "<style>#sk-container-id-26 {color: black;}#sk-container-id-26 pre{padding: 0;}#sk-container-id-26 div.sk-toggleable {background-color: white;}#sk-container-id-26 label.sk-toggleable__label {cursor: pointer;display: block;width: 100%;margin-bottom: 0;padding: 0.3em;box-sizing: border-box;text-align: center;}#sk-container-id-26 label.sk-toggleable__label-arrow:before {content: \"▸\";float: left;margin-right: 0.25em;color: #696969;}#sk-container-id-26 label.sk-toggleable__label-arrow:hover:before {color: black;}#sk-container-id-26 div.sk-estimator:hover label.sk-toggleable__label-arrow:before {color: black;}#sk-container-id-26 div.sk-toggleable__content {max-height: 0;max-width: 0;overflow: hidden;text-align: left;background-color: #f0f8ff;}#sk-container-id-26 div.sk-toggleable__content pre {margin: 0.2em;color: black;border-radius: 0.25em;background-color: #f0f8ff;}#sk-container-id-26 input.sk-toggleable__control:checked~div.sk-toggleable__content {max-height: 200px;max-width: 100%;overflow: auto;}#sk-container-id-26 input.sk-toggleable__control:checked~label.sk-toggleable__label-arrow:before {content: \"▾\";}#sk-container-id-26 div.sk-estimator input.sk-toggleable__control:checked~label.sk-toggleable__label {background-color: #d4ebff;}#sk-container-id-26 div.sk-label input.sk-toggleable__control:checked~label.sk-toggleable__label {background-color: #d4ebff;}#sk-container-id-26 input.sk-hidden--visually {border: 0;clip: rect(1px 1px 1px 1px);clip: rect(1px, 1px, 1px, 1px);height: 1px;margin: -1px;overflow: hidden;padding: 0;position: absolute;width: 1px;}#sk-container-id-26 div.sk-estimator {font-family: monospace;background-color: #f0f8ff;border: 1px dotted black;border-radius: 0.25em;box-sizing: border-box;margin-bottom: 0.5em;}#sk-container-id-26 div.sk-estimator:hover {background-color: #d4ebff;}#sk-container-id-26 div.sk-parallel-item::after {content: \"\";width: 100%;border-bottom: 1px solid gray;flex-grow: 1;}#sk-container-id-26 div.sk-label:hover label.sk-toggleable__label {background-color: #d4ebff;}#sk-container-id-26 div.sk-serial::before {content: \"\";position: absolute;border-left: 1px solid gray;box-sizing: border-box;top: 0;bottom: 0;left: 50%;z-index: 0;}#sk-container-id-26 div.sk-serial {display: flex;flex-direction: column;align-items: center;background-color: white;padding-right: 0.2em;padding-left: 0.2em;position: relative;}#sk-container-id-26 div.sk-item {position: relative;z-index: 1;}#sk-container-id-26 div.sk-parallel {display: flex;align-items: stretch;justify-content: center;background-color: white;position: relative;}#sk-container-id-26 div.sk-item::before, #sk-container-id-26 div.sk-parallel-item::before {content: \"\";position: absolute;border-left: 1px solid gray;box-sizing: border-box;top: 0;bottom: 0;left: 50%;z-index: -1;}#sk-container-id-26 div.sk-parallel-item {display: flex;flex-direction: column;z-index: 1;position: relative;background-color: white;}#sk-container-id-26 div.sk-parallel-item:first-child::after {align-self: flex-end;width: 50%;}#sk-container-id-26 div.sk-parallel-item:last-child::after {align-self: flex-start;width: 50%;}#sk-container-id-26 div.sk-parallel-item:only-child::after {width: 0;}#sk-container-id-26 div.sk-dashed-wrapped {border: 1px dashed gray;margin: 0 0.4em 0.5em 0.4em;box-sizing: border-box;padding-bottom: 0.4em;background-color: white;}#sk-container-id-26 div.sk-label label {font-family: monospace;font-weight: bold;display: inline-block;line-height: 1.2em;}#sk-container-id-26 div.sk-label-container {text-align: center;}#sk-container-id-26 div.sk-container {/* jupyter's `normalize.less` sets `[hidden] { display: none; }` but bootstrap.min.css set `[hidden] { display: none !important; }` so we also need the `!important` here to be able to override the default hidden behavior on the sphinx rendered scikit-learn.org. See: https://github.com/scikit-learn/scikit-learn/issues/21755 */display: inline-block !important;position: relative;}#sk-container-id-26 div.sk-text-repr-fallback {display: none;}</style><div id=\"sk-container-id-26\" class=\"sk-top-container\"><div class=\"sk-text-repr-fallback\"><pre>DecisionTreeClassifier(criterion=&#x27;entropy&#x27;, random_state=42)</pre><b>In a Jupyter environment, please rerun this cell to show the HTML representation or trust the notebook. <br />On GitHub, the HTML representation is unable to render, please try loading this page with nbviewer.org.</b></div><div class=\"sk-container\" hidden><div class=\"sk-item\"><div class=\"sk-estimator sk-toggleable\"><input class=\"sk-toggleable__control sk-hidden--visually\" id=\"sk-estimator-id-42\" type=\"checkbox\" checked><label for=\"sk-estimator-id-42\" class=\"sk-toggleable__label sk-toggleable__label-arrow\">DecisionTreeClassifier</label><div class=\"sk-toggleable__content\"><pre>DecisionTreeClassifier(criterion=&#x27;entropy&#x27;, random_state=42)</pre></div></div></div></div></div>"
     },
     "execution_count": 281,
     "metadata": {},
     "output_type": "execute_result"
    }
   ],
   "source": [
    "# Initialize the DecisionTreeClassifier with entropy criterion.\n",
    "model2 = DecisionTreeClassifier(criterion='entropy', splitter='best', random_state=42)\n",
    "model2.fit(X_train, y_train)"
   ]
  },
  {
   "cell_type": "code",
   "execution_count": 282,
   "id": "93306648e4c90fac",
   "metadata": {
    "collapsed": false,
    "ExecuteTime": {
     "end_time": "2024-04-23T14:33:46.798825700Z",
     "start_time": "2024-04-23T14:33:46.631568100Z"
    }
   },
   "outputs": [
    {
     "name": "stdout",
     "output_type": "stream",
     "text": [
      "Cross-Validated Accuracies with the second model: [0.57142857 0.52380952 0.66666667 0.6        0.2       ]\n"
     ]
    }
   ],
   "source": [
    "# using cross validation for more stable estimates \n",
    "accuracies2= cross_val_score(model, X, y, cv=5)  # 5-fold cross-validation\n",
    "print(\"Cross-Validated Accuracies with the second model:\", accuracies2)"
   ]
  },
  {
   "cell_type": "code",
   "execution_count": 283,
   "id": "b66700d2a6fcd3d0",
   "metadata": {
    "collapsed": false,
    "ExecuteTime": {
     "end_time": "2024-04-23T14:33:46.908467800Z",
     "start_time": "2024-04-23T14:33:46.736807600Z"
    }
   },
   "outputs": [
    {
     "name": "stdout",
     "output_type": "stream",
     "text": [
      "Accuracy = 0.666667\n",
      "F1 Score = 0.591398\n",
      "Precision Score = 0.543860\n"
     ]
    }
   ],
   "source": [
    "# Make predictions with model2 on the test data.\n",
    "y_test_pred2 = model2.predict(X_test)\n",
    "\n",
    "# Calculate the performance metrics for model2 on the test data.\n",
    "accuracy2 = metrics.accuracy_score(y_test, y_test_pred2)\n",
    "f1_score2 = metrics.f1_score(y_test, y_test_pred2, average='macro', zero_division=0)\n",
    "precision_score2 = metrics.precision_score(y_test, y_test_pred2, average='macro', zero_division=0)\n",
    "\n",
    "# Print out the metrics for model2.\n",
    "print(\"Accuracy = %f\" % accuracy2)\n",
    "print(\"F1 Score = %f\" % f1_score2)\n",
    "print(\"Precision Score = %f\" % precision_score2)\n"
   ]
  },
  {
   "cell_type": "code",
   "execution_count": 284,
   "id": "d09c6a32f19036c7",
   "metadata": {
    "collapsed": false,
    "ExecuteTime": {
     "end_time": "2024-04-23T14:33:47.004285900Z",
     "start_time": "2024-04-23T14:33:46.847356600Z"
    }
   },
   "outputs": [],
   "source": [
    "## FILTER THE DATA \n",
    "## FOR THE GIRONDE DEPARTEMENT (33)"
   ]
  },
  {
   "cell_type": "code",
   "execution_count": 285,
   "id": "40ac202e4f0d7a90",
   "metadata": {
    "collapsed": false,
    "ExecuteTime": {
     "end_time": "2024-04-23T14:33:47.112734Z",
     "start_time": "2024-04-23T14:33:46.965427300Z"
    }
   },
   "outputs": [
    {
     "name": "stdout",
     "output_type": "stream",
     "text": [
      "Unique Department Codes: [0, 1, 2, 3, 4, 5, 6, 7, 8, 9, 10, 11, 12, 13, 14, 15, 16, 17, 18, 19, 20, 21, 22, 23, 24, 25, 26, 27, 28, 29, 30, 31, 32, 33, 34, 35, 36, 37, 38, 39, 40, 41, 42, 43, 44, 45, 46, 47, 48, 49, 50, 51, 52, 53, 54, 55, 56, 57, 58, 59, 60, 61, 62, 63, 64, 65, 66, 67, 68, 69, 70, 71, 72, 73, 74, 75, 76, 77, 78, 79, 80, 81, 82, 83, 84, 85, 86, 87, 88, 89, 90, 91, 92, 93, 94, 95, 96, 97, 98, 99, 100, 101, 102]\n"
     ]
    }
   ],
   "source": [
    "# Extracting unique department codes\n",
    "unique_departments = df['code_departement'].unique()\n",
    "\n",
    "# Convert to list \n",
    "unique_departments_list = list(unique_departments)\n",
    "print(\"Unique Department Codes:\", unique_departments_list)\n"
   ]
  },
  {
   "cell_type": "code",
   "execution_count": 286,
   "id": "f6ae7696f7400752",
   "metadata": {
    "collapsed": false,
    "ExecuteTime": {
     "end_time": "2024-04-23T14:33:47.149098500Z",
     "start_time": "2024-04-23T14:33:47.059691900Z"
    }
   },
   "outputs": [],
   "source": [
    "# Create and fit LabelEncoder with all possible categories\n",
    "dept_encoder = LabelEncoder()\n",
    "dept_encoder.fit(unique_departments_list)  \n",
    "\n",
    "# Transform 'code_departement' in the dataset\n",
    "df['code_departement'] = dept_encoder.transform(df['code_departement'].astype(str))\n"
   ]
  },
  {
   "cell_type": "code",
   "execution_count": 287,
   "id": "cb4bfed34b24d72",
   "metadata": {
    "collapsed": false,
    "ExecuteTime": {
     "end_time": "2024-04-23T14:33:47.241839600Z",
     "start_time": "2024-04-23T14:33:47.157552100Z"
    }
   },
   "outputs": [],
   "source": [
    "## filtering the data for Gironde departement only \n",
    "gironde_df = df[df['code_departement'] == dept_encoder.transform(['33'])[0]]\n"
   ]
  },
  {
   "cell_type": "code",
   "execution_count": 288,
   "id": "fb67c743bbcc0ae8",
   "metadata": {
    "collapsed": false,
    "ExecuteTime": {
     "end_time": "2024-04-23T14:33:47.279751700Z",
     "start_time": "2024-04-23T14:33:47.211102200Z"
    }
   },
   "outputs": [],
   "source": [
    "try:\n",
    "    X_gironde = df[df['code_departement'] == dept_encoder.transform(['33'])[0]]\n",
    "except ValueError as e:\n",
    "    print(\"Unseen label found:\", e)"
   ]
  },
  {
   "cell_type": "code",
   "execution_count": 289,
   "id": "1a3dc2b5224d4380",
   "metadata": {
    "collapsed": false,
    "ExecuteTime": {
     "end_time": "2024-04-23T14:33:47.349595900Z",
     "start_time": "2024-04-23T14:33:47.283244200Z"
    }
   },
   "outputs": [],
   "source": [
    "# Prepare features for prediction\n",
    "X_gironde = gironde_df.drop('gagnant', axis=1) \n",
    "y_gironde = gironde_df['gagnant']"
   ]
  },
  {
   "cell_type": "code",
   "execution_count": 290,
   "id": "4798e58376e4205",
   "metadata": {
    "collapsed": false,
    "ExecuteTime": {
     "end_time": "2024-04-23T14:33:47.414610800Z",
     "start_time": "2024-04-23T14:33:47.328877700Z"
    }
   },
   "outputs": [],
   "source": [
    "## prediction using the trained models :"
   ]
  },
  {
   "cell_type": "code",
   "execution_count": 291,
   "id": "f68276d195842604",
   "metadata": {
    "collapsed": false,
    "ExecuteTime": {
     "end_time": "2024-04-23T14:33:47.456390800Z",
     "start_time": "2024-04-23T14:33:47.394447500Z"
    }
   },
   "outputs": [],
   "source": [
    "# using the gini criterion model \n",
    "y_gironde_pred_gini = model.predict_proba(X_gironde)\n",
    "\n",
    "# using the Entropy Criterion model \n",
    "y_gironde_pred_entropy = model2.predict_proba(X_gironde)"
   ]
  },
  {
   "cell_type": "code",
   "execution_count": 292,
   "id": "d75c410a44268a5a",
   "metadata": {
    "collapsed": false,
    "ExecuteTime": {
     "end_time": "2024-04-23T14:33:47.514501400Z",
     "start_time": "2024-04-23T14:33:47.463574200Z"
    }
   },
   "outputs": [
    {
     "name": "stdout",
     "output_type": "stream",
     "text": [
      "Predicted Labels with gini: [[0. 0. 1.]]\n",
      "Predicted Labels with entropy [[0.  0.6 0.4]]\n"
     ]
    }
   ],
   "source": [
    "# print predictions \n",
    "print(\"Predicted Labels with gini:\", y_gironde_pred_gini)\n",
    "print(\"Predicted Labels with entropy\", y_gironde_pred_entropy)"
   ]
  },
  {
   "cell_type": "code",
   "execution_count": 293,
   "id": "456625da961ff56c",
   "metadata": {
    "collapsed": false,
    "ExecuteTime": {
     "end_time": "2024-04-23T14:33:47.564926300Z",
     "start_time": "2024-04-23T14:33:47.492906900Z"
    }
   },
   "outputs": [
    {
     "name": "stdout",
     "output_type": "stream",
     "text": [
      "LFI: 0.00 votes\n",
      "LREM: 0.00 votes\n",
      "RN: 1.00 votes\n"
     ]
    }
   ],
   "source": [
    "def print_predicted_votes(probs, labels):\n",
    "    sums = probs.sum(axis=0)  # Sum probabilities for each class\n",
    "    party_votes = {label: vote for label, vote in zip(labels, sums)}\n",
    "    return party_votes\n",
    "\n",
    "labels = [ 'LFI', 'LREM', 'RN']\n",
    "predicted_votes = print_predicted_votes(y_gironde_pred_gini, labels)\n",
    "\n",
    "# Printing predicted votes for each party\n",
    "for party, votes in predicted_votes.items():\n",
    "    print(f\"{party}: {votes:.2f} votes\")\n"
   ]
  },
  {
   "cell_type": "code",
   "execution_count": 293,
   "id": "e0a3e634d8da9db6",
   "metadata": {
    "collapsed": false,
    "ExecuteTime": {
     "end_time": "2024-04-23T14:33:47.596874Z",
     "start_time": "2024-04-23T14:33:47.523764Z"
    }
   },
   "outputs": [],
   "source": []
  },
  {
   "cell_type": "code",
   "execution_count": 294,
   "id": "9ced14a6fa1d8616",
   "metadata": {
    "collapsed": false,
    "ExecuteTime": {
     "end_time": "2024-04-23T14:33:47.907987500Z",
     "start_time": "2024-04-23T14:33:47.620720600Z"
    }
   },
   "outputs": [
    {
     "data": {
      "text/plain": "<Figure size 800x400 with 1 Axes>",
      "image/png": "[encoded data removed]"
     },
     "metadata": {},
     "output_type": "display_data"
    }
   ],
   "source": [
    "def plot_top_predictions(probs, model_name):\n",
    "    labels = ['LFI','LREM', 'RN']\n",
    "    sums = probs.sum(axis=0)  # Somme des probabilités pour chaque classe\n",
    "    top_two_idx = np.argsort(sums)[-2:]  # Indices des deux plus grands\n",
    "    top_labels = [labels[i] for i in top_two_idx]\n",
    "    top_sums = [sums[i] for i in top_two_idx]\n",
    "    colors = ['blue', 'red']  # Couleurs pour les deux partis principaux\n",
    "\n",
    "    plt.figure(figsize=(8, 4))\n",
    "    plt.bar(top_labels, top_sums, color=colors)\n",
    "    plt.title(f'Top Two Predicted Parties in Gironde - {model_name}')\n",
    "    plt.xlabel('Political Parties')\n",
    "    plt.ylabel('Sum of Predicted Probabilities')\n",
    "    plt.show()\n",
    "\n",
    "plot_top_predictions(y_gironde_pred_entropy, 'Decision Tree with Entropy Criterion')"
   ]
  },
  {
   "cell_type": "code",
   "execution_count": 295,
   "id": "a19e5e9750f530d9",
   "metadata": {
    "collapsed": false,
    "ExecuteTime": {
     "end_time": "2024-04-23T14:33:47.912381800Z",
     "start_time": "2024-04-23T14:33:47.860816200Z"
    }
   },
   "outputs": [],
   "source": [
    "# import de GridSearchCv et d'autres modules nécessaire\n",
    "from sklearn.model_selection import GridSearchCV\n",
    "from sklearn.tree import DecisionTreeClassifier"
   ]
  },
  {
   "cell_type": "code",
   "execution_count": 296,
   "id": "97ac49b16d67af96",
   "metadata": {
    "collapsed": false,
    "ExecuteTime": {
     "end_time": "2024-04-23T14:33:47.991135800Z",
     "start_time": "2024-04-23T14:33:47.870195Z"
    }
   },
   "outputs": [],
   "source": [
    "# définir les hyperparametres a tester : \n",
    "# pour un arbre de decision les hyperparametres sont : \n",
    "# criterion : le critères de mesure de la qualité d'un split 'gini' ou 'entropy' \n",
    "# max depth : la profondeur maximal de l'arbre\n",
    "# min sample split : le nombre min de donnée requises pour diviser un noeud interne \n",
    "# min samples leaf : le nombre min d'échantillons requis pour etre a un feuille "
   ]
  },
  {
   "cell_type": "code",
   "execution_count": 297,
   "id": "13411e3bda5f9c07",
   "metadata": {
    "collapsed": false,
    "ExecuteTime": {
     "end_time": "2024-04-23T14:33:47.993151200Z",
     "start_time": "2024-04-23T14:33:47.879633700Z"
    }
   },
   "outputs": [],
   "source": [
    "param_grid = {\n",
    "    'criterion': ['gini', 'entropy'],\n",
    "    'max_depth': [None, 10, 20, 30, 40, 50],\n",
    "    'min_samples_split': [2, 10, 20],\n",
    "    'min_samples_leaf': [1, 5, 10]\n",
    "}\n"
   ]
  },
  {
   "cell_type": "code",
   "execution_count": 298,
   "id": "f22e3e0da103b22c",
   "metadata": {
    "collapsed": false,
    "ExecuteTime": {
     "end_time": "2024-04-23T14:33:47.994661300Z",
     "start_time": "2024-04-23T14:33:47.886432700Z"
    }
   },
   "outputs": [],
   "source": [
    "# configurer notre gridsearchCV avec le model \n",
    "model = DecisionTreeClassifier()\n",
    "grid_search = GridSearchCV(estimator=model, param_grid=param_grid, cv=5, scoring='accuracy', verbose=1)\n"
   ]
  },
  {
   "cell_type": "code",
   "execution_count": 299,
   "id": "ed025d17bf15d5df",
   "metadata": {
    "collapsed": false,
    "ExecuteTime": {
     "end_time": "2024-04-23T14:33:51.059871700Z",
     "start_time": "2024-04-23T14:33:47.896333800Z"
    }
   },
   "outputs": [
    {
     "name": "stdout",
     "output_type": "stream",
     "text": [
      "Fitting 5 folds for each of 108 candidates, totalling 540 fits\n"
     ]
    },
    {
     "data": {
      "text/plain": "GridSearchCV(cv=5, estimator=DecisionTreeClassifier(),\n             param_grid={'criterion': ['gini', 'entropy'],\n                         'max_depth': [None, 10, 20, 30, 40, 50],\n                         'min_samples_leaf': [1, 5, 10],\n                         'min_samples_split': [2, 10, 20]},\n             scoring='accuracy', verbose=1)",
      "text/html": "<style>#sk-container-id-27 {color: black;}#sk-container-id-27 pre{padding: 0;}#sk-container-id-27 div.sk-toggleable {background-color: white;}#sk-container-id-27 label.sk-toggleable__label {cursor: pointer;display: block;width: 100%;margin-bottom: 0;padding: 0.3em;box-sizing: border-box;text-align: center;}#sk-container-id-27 label.sk-toggleable__label-arrow:before {content: \"▸\";float: left;margin-right: 0.25em;color: #696969;}#sk-container-id-27 label.sk-toggleable__label-arrow:hover:before {color: black;}#sk-container-id-27 div.sk-estimator:hover label.sk-toggleable__label-arrow:before {color: black;}#sk-container-id-27 div.sk-toggleable__content {max-height: 0;max-width: 0;overflow: hidden;text-align: left;background-color: #f0f8ff;}#sk-container-id-27 div.sk-toggleable__content pre {margin: 0.2em;color: black;border-radius: 0.25em;background-color: #f0f8ff;}#sk-container-id-27 input.sk-toggleable__control:checked~div.sk-toggleable__content {max-height: 200px;max-width: 100%;overflow: auto;}#sk-container-id-27 input.sk-toggleable__control:checked~label.sk-toggleable__label-arrow:before {content: \"▾\";}#sk-container-id-27 div.sk-estimator input.sk-toggleable__control:checked~label.sk-toggleable__label {background-color: #d4ebff;}#sk-container-id-27 div.sk-label input.sk-toggleable__control:checked~label.sk-toggleable__label {background-color: #d4ebff;}#sk-container-id-27 input.sk-hidden--visually {border: 0;clip: rect(1px 1px 1px 1px);clip: rect(1px, 1px, 1px, 1px);height: 1px;margin: -1px;overflow: hidden;padding: 0;position: absolute;width: 1px;}#sk-container-id-27 div.sk-estimator {font-family: monospace;background-color: #f0f8ff;border: 1px dotted black;border-radius: 0.25em;box-sizing: border-box;margin-bottom: 0.5em;}#sk-container-id-27 div.sk-estimator:hover {background-color: #d4ebff;}#sk-container-id-27 div.sk-parallel-item::after {content: \"\";width: 100%;border-bottom: 1px solid gray;flex-grow: 1;}#sk-container-id-27 div.sk-label:hover label.sk-toggleable__label {background-color: #d4ebff;}#sk-container-id-27 div.sk-serial::before {content: \"\";position: absolute;border-left: 1px solid gray;box-sizing: border-box;top: 0;bottom: 0;left: 50%;z-index: 0;}#sk-container-id-27 div.sk-serial {display: flex;flex-direction: column;align-items: center;background-color: white;padding-right: 0.2em;padding-left: 0.2em;position: relative;}#sk-container-id-27 div.sk-item {position: relative;z-index: 1;}#sk-container-id-27 div.sk-parallel {display: flex;align-items: stretch;justify-content: center;background-color: white;position: relative;}#sk-container-id-27 div.sk-item::before, #sk-container-id-27 div.sk-parallel-item::before {content: \"\";position: absolute;border-left: 1px solid gray;box-sizing: border-box;top: 0;bottom: 0;left: 50%;z-index: -1;}#sk-container-id-27 div.sk-parallel-item {display: flex;flex-direction: column;z-index: 1;position: relative;background-color: white;}#sk-container-id-27 div.sk-parallel-item:first-child::after {align-self: flex-end;width: 50%;}#sk-container-id-27 div.sk-parallel-item:last-child::after {align-self: flex-start;width: 50%;}#sk-container-id-27 div.sk-parallel-item:only-child::after {width: 0;}#sk-container-id-27 div.sk-dashed-wrapped {border: 1px dashed gray;margin: 0 0.4em 0.5em 0.4em;box-sizing: border-box;padding-bottom: 0.4em;background-color: white;}#sk-container-id-27 div.sk-label label {font-family: monospace;font-weight: bold;display: inline-block;line-height: 1.2em;}#sk-container-id-27 div.sk-label-container {text-align: center;}#sk-container-id-27 div.sk-container {/* jupyter's `normalize.less` sets `[hidden] { display: none; }` but bootstrap.min.css set `[hidden] { display: none !important; }` so we also need the `!important` here to be able to override the default hidden behavior on the sphinx rendered scikit-learn.org. See: https://github.com/scikit-learn/scikit-learn/issues/21755 */display: inline-block !important;position: relative;}#sk-container-id-27 div.sk-text-repr-fallback {display: none;}</style><div id=\"sk-container-id-27\" class=\"sk-top-container\"><div class=\"sk-text-repr-fallback\"><pre>GridSearchCV(cv=5, estimator=DecisionTreeClassifier(),\n             param_grid={&#x27;criterion&#x27;: [&#x27;gini&#x27;, &#x27;entropy&#x27;],\n                         &#x27;max_depth&#x27;: [None, 10, 20, 30, 40, 50],\n                         &#x27;min_samples_leaf&#x27;: [1, 5, 10],\n                         &#x27;min_samples_split&#x27;: [2, 10, 20]},\n             scoring=&#x27;accuracy&#x27;, verbose=1)</pre><b>In a Jupyter environment, please rerun this cell to show the HTML representation or trust the notebook. <br />On GitHub, the HTML representation is unable to render, please try loading this page with nbviewer.org.</b></div><div class=\"sk-container\" hidden><div class=\"sk-item sk-dashed-wrapped\"><div class=\"sk-label-container\"><div class=\"sk-label sk-toggleable\"><input class=\"sk-toggleable__control sk-hidden--visually\" id=\"sk-estimator-id-43\" type=\"checkbox\" ><label for=\"sk-estimator-id-43\" class=\"sk-toggleable__label sk-toggleable__label-arrow\">GridSearchCV</label><div class=\"sk-toggleable__content\"><pre>GridSearchCV(cv=5, estimator=DecisionTreeClassifier(),\n             param_grid={&#x27;criterion&#x27;: [&#x27;gini&#x27;, &#x27;entropy&#x27;],\n                         &#x27;max_depth&#x27;: [None, 10, 20, 30, 40, 50],\n                         &#x27;min_samples_leaf&#x27;: [1, 5, 10],\n                         &#x27;min_samples_split&#x27;: [2, 10, 20]},\n             scoring=&#x27;accuracy&#x27;, verbose=1)</pre></div></div></div><div class=\"sk-parallel\"><div class=\"sk-parallel-item\"><div class=\"sk-item\"><div class=\"sk-label-container\"><div class=\"sk-label sk-toggleable\"><input class=\"sk-toggleable__control sk-hidden--visually\" id=\"sk-estimator-id-44\" type=\"checkbox\" ><label for=\"sk-estimator-id-44\" class=\"sk-toggleable__label sk-toggleable__label-arrow\">estimator: DecisionTreeClassifier</label><div class=\"sk-toggleable__content\"><pre>DecisionTreeClassifier()</pre></div></div></div><div class=\"sk-serial\"><div class=\"sk-item\"><div class=\"sk-estimator sk-toggleable\"><input class=\"sk-toggleable__control sk-hidden--visually\" id=\"sk-estimator-id-45\" type=\"checkbox\" ><label for=\"sk-estimator-id-45\" class=\"sk-toggleable__label sk-toggleable__label-arrow\">DecisionTreeClassifier</label><div class=\"sk-toggleable__content\"><pre>DecisionTreeClassifier()</pre></div></div></div></div></div></div></div></div></div></div>"
     },
     "execution_count": 299,
     "metadata": {},
     "output_type": "execute_result"
    }
   ],
   "source": [
    "# entrainement avec gridsearchcv : \n",
    "# on entraine GridSearch sur les donnée d'apprentissage\n",
    "# c'est une étape qui peut prendre un petit peu de temps, car il va entrainer un modèle pour chaque combinaison de parametres a traver tous les plis de la validation croisée\n",
    "grid_search.fit(X_train, y_train)"
   ]
  },
  {
   "cell_type": "code",
   "execution_count": 300,
   "id": "8b0c83b8c533233d",
   "metadata": {
    "collapsed": false,
    "ExecuteTime": {
     "end_time": "2024-04-23T14:33:51.061133200Z",
     "start_time": "2024-04-23T14:33:51.031231400Z"
    }
   },
   "outputs": [
    {
     "name": "stdout",
     "output_type": "stream",
     "text": [
      "Meilleurs paramètres: {'criterion': 'gini', 'max_depth': 10, 'min_samples_leaf': 1, 'min_samples_split': 2}\n"
     ]
    }
   ],
   "source": [
    "# apres l'entrainement, on a le meilleur parametre a utiliser et le meilleur modèle trouver pour faire nos prediction \n",
    "print(\"Meilleurs paramètres:\", grid_search.best_params_)\n",
    "best_model = grid_search.best_estimator_\n",
    "\n",
    "y_test_pred = best_model.predict(X_test)\n",
    "y_train_pred = best_model.predict(X_train)\n"
   ]
  },
  {
   "cell_type": "code",
   "execution_count": 301,
   "id": "bab68ec15495051a",
   "metadata": {
    "collapsed": false,
    "ExecuteTime": {
     "end_time": "2024-04-23T14:33:51.095945300Z",
     "start_time": "2024-04-23T14:33:51.045351500Z"
    }
   },
   "outputs": [
    {
     "name": "stdout",
     "output_type": "stream",
     "text": [
      "Précision: 0.6666666666666666\n",
      "              precision    recall  f1-score   support\n",
      "\n",
      "           0       0.00      0.00      0.00         2\n",
      "           1       0.89      0.67      0.76        12\n",
      "           2       0.50      0.86      0.63         7\n",
      "\n",
      "    accuracy                           0.67        21\n",
      "   macro avg       0.46      0.51      0.46        21\n",
      "weighted avg       0.67      0.67      0.65        21\n"
     ]
    },
    {
     "name": "stderr",
     "output_type": "stream",
     "text": [
      "C:\\Users\\pikat\\miniconda3\\Lib\\site-packages\\sklearn\\metrics\\_classification.py:1471: UndefinedMetricWarning: Precision and F-score are ill-defined and being set to 0.0 in labels with no predicted samples. Use `zero_division` parameter to control this behavior.\n",
      "  _warn_prf(average, modifier, msg_start, len(result))\n",
      "C:\\Users\\pikat\\miniconda3\\Lib\\site-packages\\sklearn\\metrics\\_classification.py:1471: UndefinedMetricWarning: Precision and F-score are ill-defined and being set to 0.0 in labels with no predicted samples. Use `zero_division` parameter to control this behavior.\n",
      "  _warn_prf(average, modifier, msg_start, len(result))\n",
      "C:\\Users\\pikat\\miniconda3\\Lib\\site-packages\\sklearn\\metrics\\_classification.py:1471: UndefinedMetricWarning: Precision and F-score are ill-defined and being set to 0.0 in labels with no predicted samples. Use `zero_division` parameter to control this behavior.\n",
      "  _warn_prf(average, modifier, msg_start, len(result))\n"
     ]
    }
   ],
   "source": [
    "# evaluer le meilleur modèle \n",
    "from sklearn.metrics import accuracy_score, classification_report\n",
    "\n",
    "print(\"Précision:\", accuracy_score(y_test, y_test_pred))\n",
    "print(classification_report(y_test, y_test_pred))\n"
   ]
  }
 ],
 "metadata": {
  "kernelspec": {
   "display_name": "Python 3 (ipykernel)",
   "language": "python",
   "name": "python3"
  },
  "language_info": {
   "codemirror_mode": {
    "name": "ipython",
    "version": 3
   },
   "file_extension": ".py",
   "mimetype": "text/x-python",
   "name": "python",
   "nbconvert_exporter": "python",
   "pygments_lexer": "ipython3",
   "version": "3.11.5"
  }
 },
 "nbformat": 4,
 "nbformat_minor": 5
}
