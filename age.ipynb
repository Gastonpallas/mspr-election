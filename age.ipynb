{
 "cells": [
  {
   "cell_type": "code",
   "execution_count": 1,
   "metadata": {
    "collapsed": true
   },
   "outputs": [],
   "source": [
    "import pandas as pd"
   ]
  },
  {
   "cell_type": "code",
   "execution_count": 3,
   "outputs": [],
   "source": [
    "df = pd.read_excel('./donnees_brutes/age.xlsx')"
   ],
   "metadata": {
    "collapsed": false
   }
  },
  {
   "cell_type": "code",
   "execution_count": 8,
   "outputs": [
    {
     "data": {
      "text/plain": "          ZONE  SEXE     TRAGE  POP_2022\n0          Ain     1     [0;5[     20050\n1          Ain     1    [5;10[     23780\n2          Ain     1   [10;15[     24700\n3          Ain     1   [15;20[     22340\n4          Ain     1   [20;25[     14150\n...        ...   ...       ...       ...\n4035  Yvelines     2   [75;80[     25000\n4036  Yvelines     2   [80;85[     19860\n4037  Yvelines     2   [85;90[     15120\n4038  Yvelines     2   [90;95[      8260\n4039  Yvelines     2  [95;99+]      3520\n\n[4040 rows x 4 columns]",
      "text/html": "<div>\n<style scoped>\n    .dataframe tbody tr th:only-of-type {\n        vertical-align: middle;\n    }\n\n    .dataframe tbody tr th {\n        vertical-align: top;\n    }\n\n    .dataframe thead th {\n        text-align: right;\n    }\n</style>\n<table border=\"1\" class=\"dataframe\">\n  <thead>\n    <tr style=\"text-align: right;\">\n      <th></th>\n      <th>ZONE</th>\n      <th>SEXE</th>\n      <th>TRAGE</th>\n      <th>POP_2022</th>\n    </tr>\n  </thead>\n  <tbody>\n    <tr>\n      <th>0</th>\n      <td>Ain</td>\n      <td>1</td>\n      <td>[0;5[</td>\n      <td>20050</td>\n    </tr>\n    <tr>\n      <th>1</th>\n      <td>Ain</td>\n      <td>1</td>\n      <td>[5;10[</td>\n      <td>23780</td>\n    </tr>\n    <tr>\n      <th>2</th>\n      <td>Ain</td>\n      <td>1</td>\n      <td>[10;15[</td>\n      <td>24700</td>\n    </tr>\n    <tr>\n      <th>3</th>\n      <td>Ain</td>\n      <td>1</td>\n      <td>[15;20[</td>\n      <td>22340</td>\n    </tr>\n    <tr>\n      <th>4</th>\n      <td>Ain</td>\n      <td>1</td>\n      <td>[20;25[</td>\n      <td>14150</td>\n    </tr>\n    <tr>\n      <th>...</th>\n      <td>...</td>\n      <td>...</td>\n      <td>...</td>\n      <td>...</td>\n    </tr>\n    <tr>\n      <th>4035</th>\n      <td>Yvelines</td>\n      <td>2</td>\n      <td>[75;80[</td>\n      <td>25000</td>\n    </tr>\n    <tr>\n      <th>4036</th>\n      <td>Yvelines</td>\n      <td>2</td>\n      <td>[80;85[</td>\n      <td>19860</td>\n    </tr>\n    <tr>\n      <th>4037</th>\n      <td>Yvelines</td>\n      <td>2</td>\n      <td>[85;90[</td>\n      <td>15120</td>\n    </tr>\n    <tr>\n      <th>4038</th>\n      <td>Yvelines</td>\n      <td>2</td>\n      <td>[90;95[</td>\n      <td>8260</td>\n    </tr>\n    <tr>\n      <th>4039</th>\n      <td>Yvelines</td>\n      <td>2</td>\n      <td>[95;99+]</td>\n      <td>3520</td>\n    </tr>\n  </tbody>\n</table>\n<p>4040 rows × 4 columns</p>\n</div>"
     },
     "execution_count": 8,
     "metadata": {},
     "output_type": "execute_result"
    }
   ],
   "source": [
    "colonnes_a_garder = ['ZONE','SEXE','TRAGE',  'POP_2022']\n",
    "df_selectionne = df[colonnes_a_garder]\n",
    "df_selectionne"
   ],
   "metadata": {
    "collapsed": false
   }
  },
  {
   "cell_type": "code",
   "execution_count": 9,
   "outputs": [],
   "source": [
    "sortie = './donnees/age.csv'\n",
    "df_selectionne.to_csv(sortie, index=False)"
   ],
   "metadata": {
    "collapsed": false
   }
  },
  {
   "cell_type": "code",
   "execution_count": null,
   "outputs": [],
   "source": [],
   "metadata": {
    "collapsed": false
   }
  }
 ],
 "metadata": {
  "kernelspec": {
   "display_name": "Python 3",
   "language": "python",
   "name": "python3"
  },
  "language_info": {
   "codemirror_mode": {
    "name": "ipython",
    "version": 2
   },
   "file_extension": ".py",
   "mimetype": "text/x-python",
   "name": "python",
   "nbconvert_exporter": "python",
   "pygments_lexer": "ipython2",
   "version": "2.7.6"
  }
 },
 "nbformat": 4,
 "nbformat_minor": 0
}
