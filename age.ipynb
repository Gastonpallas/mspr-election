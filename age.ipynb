{
 "cells": [
  {
   "cell_type": "code",
   "execution_count": 52,
   "metadata": {
    "collapsed": true
   },
   "outputs": [],
   "source": [
    "import pandas as pd"
   ]
  },
  {
   "cell_type": "code",
   "execution_count": 53,
   "outputs": [],
   "source": [
    "df = pd.read_excel('./data_raw/age.xlsx')"
   ],
   "metadata": {
    "collapsed": false
   }
  },
  {
   "cell_type": "code",
   "execution_count": 54,
   "outputs": [],
   "source": [
    "colonnes_a_garder = ['ZONE','SEXE','TRAGE',  'POP_2022']\n",
    "df = df[colonnes_a_garder]\n",
    "df = df.rename(columns={'ZONE': 'code_departement'})"
   ],
   "metadata": {
    "collapsed": false
   }
  },
  {
   "cell_type": "code",
   "execution_count": 55,
   "outputs": [
    {
     "data": {
      "text/plain": "     code_departement  SEXE     TRAGE  POP_2022\n0                 Ain     1     [0;5[     20050\n1                 Ain     1    [5;10[     23780\n2                 Ain     1   [10;15[     24700\n3                 Ain     1   [15;20[     22340\n4                 Ain     1   [20;25[     14150\n...               ...   ...       ...       ...\n4035         Yvelines     2   [75;80[     25000\n4036         Yvelines     2   [80;85[     19860\n4037         Yvelines     2   [85;90[     15120\n4038         Yvelines     2   [90;95[      8260\n4039         Yvelines     2  [95;99+]      3520\n\n[4040 rows x 4 columns]",
      "text/html": "<div>\n<style scoped>\n    .dataframe tbody tr th:only-of-type {\n        vertical-align: middle;\n    }\n\n    .dataframe tbody tr th {\n        vertical-align: top;\n    }\n\n    .dataframe thead th {\n        text-align: right;\n    }\n</style>\n<table border=\"1\" class=\"dataframe\">\n  <thead>\n    <tr style=\"text-align: right;\">\n      <th></th>\n      <th>code_departement</th>\n      <th>SEXE</th>\n      <th>TRAGE</th>\n      <th>POP_2022</th>\n    </tr>\n  </thead>\n  <tbody>\n    <tr>\n      <th>0</th>\n      <td>Ain</td>\n      <td>1</td>\n      <td>[0;5[</td>\n      <td>20050</td>\n    </tr>\n    <tr>\n      <th>1</th>\n      <td>Ain</td>\n      <td>1</td>\n      <td>[5;10[</td>\n      <td>23780</td>\n    </tr>\n    <tr>\n      <th>2</th>\n      <td>Ain</td>\n      <td>1</td>\n      <td>[10;15[</td>\n      <td>24700</td>\n    </tr>\n    <tr>\n      <th>3</th>\n      <td>Ain</td>\n      <td>1</td>\n      <td>[15;20[</td>\n      <td>22340</td>\n    </tr>\n    <tr>\n      <th>4</th>\n      <td>Ain</td>\n      <td>1</td>\n      <td>[20;25[</td>\n      <td>14150</td>\n    </tr>\n    <tr>\n      <th>...</th>\n      <td>...</td>\n      <td>...</td>\n      <td>...</td>\n      <td>...</td>\n    </tr>\n    <tr>\n      <th>4035</th>\n      <td>Yvelines</td>\n      <td>2</td>\n      <td>[75;80[</td>\n      <td>25000</td>\n    </tr>\n    <tr>\n      <th>4036</th>\n      <td>Yvelines</td>\n      <td>2</td>\n      <td>[80;85[</td>\n      <td>19860</td>\n    </tr>\n    <tr>\n      <th>4037</th>\n      <td>Yvelines</td>\n      <td>2</td>\n      <td>[85;90[</td>\n      <td>15120</td>\n    </tr>\n    <tr>\n      <th>4038</th>\n      <td>Yvelines</td>\n      <td>2</td>\n      <td>[90;95[</td>\n      <td>8260</td>\n    </tr>\n    <tr>\n      <th>4039</th>\n      <td>Yvelines</td>\n      <td>2</td>\n      <td>[95;99+]</td>\n      <td>3520</td>\n    </tr>\n  </tbody>\n</table>\n<p>4040 rows × 4 columns</p>\n</div>"
     },
     "execution_count": 55,
     "metadata": {},
     "output_type": "execute_result"
    }
   ],
   "source": [
    "df"
   ],
   "metadata": {
    "collapsed": false
   }
  },
  {
   "cell_type": "code",
   "execution_count": 56,
   "outputs": [
    {
     "data": {
      "text/plain": "    code_departement  SEXE  [0;5[  [10;15[  [15;20[  [20;25[  [25;30[  \\\n0                Ain     1  20050    24700    22340    14150    15040   \n1                Ain     2  18930    23220    20110    12310    15520   \n2              Aisne     1  13640    18260    17720    13880    12380   \n3              Aisne     2  12990    17460    16020    12460    12560   \n4             Allier     1   6830     9320     9410     8550     7280   \n..               ...   ...    ...      ...      ...      ...      ...   \n197           Vosges     2   7340    10220     9770     7200     7410   \n198            Yonne     1   7890    10760    10240     7570     7030   \n199            Yonne     2   7770    10120     9040     5930     6860   \n200         Yvelines     1  45680    54170    50570    40430    38120   \n201         Yvelines     2  43510    50850    47830    37050    37660   \n\n     [30;35[  [35;40[  [40;45[  ...  [55;60[  [5;10[  [60;65[  [65;70[  \\\n0      20400    22840    22690  ...    22370   23780    19520    16950   \n1      21560    23520    22810  ...    22170   22110    20450    18740   \n2      14470    15490    15680  ...    17510   16570    16990    15900   \n3      14770    15990    15810  ...    18090   15880    18010    17560   \n4       7640     8380     8880  ...    11430    8260    11460    11200   \n..       ...      ...      ...  ...      ...     ...      ...      ...   \n197     8990     9820    10130  ...    13080    9030    13660    13390   \n198     8780     9270     9510  ...    11250    9350    11200    11120   \n199     8770     9550     9910  ...    11590    8810    12020    12120   \n200    42150    45850    48610  ...    46260   52730    38260    30540   \n201    44860    50050    51590  ...    48290   49330    41620    36010   \n\n     [70;75[  [75;80[  [80;85[  [85;90[  [90;95[  [95;99+]  \n0      15450    10600     6700     4070     1750       440  \n1      17190    12300     8740     7030     4180      1910  \n2      14760     8560     5480     3610     1460       290  \n3      16480    10780     8130     7040     3870      1340  \n4      11340     7730     5360     3460     1560       380  \n..       ...      ...      ...      ...      ...       ...  \n197    13330     8340     6890     6010     3470      1170  \n198    11150     6710     4520     3010     1200       320  \n199    11860     7830     6220     5380     3200      1400  \n200    28790    20680    14150     8960     3710      1040  \n201    34080    25000    19860    15120     8260      3520  \n\n[202 rows x 22 columns]",
      "text/html": "<div>\n<style scoped>\n    .dataframe tbody tr th:only-of-type {\n        vertical-align: middle;\n    }\n\n    .dataframe tbody tr th {\n        vertical-align: top;\n    }\n\n    .dataframe thead th {\n        text-align: right;\n    }\n</style>\n<table border=\"1\" class=\"dataframe\">\n  <thead>\n    <tr style=\"text-align: right;\">\n      <th></th>\n      <th>code_departement</th>\n      <th>SEXE</th>\n      <th>[0;5[</th>\n      <th>[10;15[</th>\n      <th>[15;20[</th>\n      <th>[20;25[</th>\n      <th>[25;30[</th>\n      <th>[30;35[</th>\n      <th>[35;40[</th>\n      <th>[40;45[</th>\n      <th>...</th>\n      <th>[55;60[</th>\n      <th>[5;10[</th>\n      <th>[60;65[</th>\n      <th>[65;70[</th>\n      <th>[70;75[</th>\n      <th>[75;80[</th>\n      <th>[80;85[</th>\n      <th>[85;90[</th>\n      <th>[90;95[</th>\n      <th>[95;99+]</th>\n    </tr>\n  </thead>\n  <tbody>\n    <tr>\n      <th>0</th>\n      <td>Ain</td>\n      <td>1</td>\n      <td>20050</td>\n      <td>24700</td>\n      <td>22340</td>\n      <td>14150</td>\n      <td>15040</td>\n      <td>20400</td>\n      <td>22840</td>\n      <td>22690</td>\n      <td>...</td>\n      <td>22370</td>\n      <td>23780</td>\n      <td>19520</td>\n      <td>16950</td>\n      <td>15450</td>\n      <td>10600</td>\n      <td>6700</td>\n      <td>4070</td>\n      <td>1750</td>\n      <td>440</td>\n    </tr>\n    <tr>\n      <th>1</th>\n      <td>Ain</td>\n      <td>2</td>\n      <td>18930</td>\n      <td>23220</td>\n      <td>20110</td>\n      <td>12310</td>\n      <td>15520</td>\n      <td>21560</td>\n      <td>23520</td>\n      <td>22810</td>\n      <td>...</td>\n      <td>22170</td>\n      <td>22110</td>\n      <td>20450</td>\n      <td>18740</td>\n      <td>17190</td>\n      <td>12300</td>\n      <td>8740</td>\n      <td>7030</td>\n      <td>4180</td>\n      <td>1910</td>\n    </tr>\n    <tr>\n      <th>2</th>\n      <td>Aisne</td>\n      <td>1</td>\n      <td>13640</td>\n      <td>18260</td>\n      <td>17720</td>\n      <td>13880</td>\n      <td>12380</td>\n      <td>14470</td>\n      <td>15490</td>\n      <td>15680</td>\n      <td>...</td>\n      <td>17510</td>\n      <td>16570</td>\n      <td>16990</td>\n      <td>15900</td>\n      <td>14760</td>\n      <td>8560</td>\n      <td>5480</td>\n      <td>3610</td>\n      <td>1460</td>\n      <td>290</td>\n    </tr>\n    <tr>\n      <th>3</th>\n      <td>Aisne</td>\n      <td>2</td>\n      <td>12990</td>\n      <td>17460</td>\n      <td>16020</td>\n      <td>12460</td>\n      <td>12560</td>\n      <td>14770</td>\n      <td>15990</td>\n      <td>15810</td>\n      <td>...</td>\n      <td>18090</td>\n      <td>15880</td>\n      <td>18010</td>\n      <td>17560</td>\n      <td>16480</td>\n      <td>10780</td>\n      <td>8130</td>\n      <td>7040</td>\n      <td>3870</td>\n      <td>1340</td>\n    </tr>\n    <tr>\n      <th>4</th>\n      <td>Allier</td>\n      <td>1</td>\n      <td>6830</td>\n      <td>9320</td>\n      <td>9410</td>\n      <td>8550</td>\n      <td>7280</td>\n      <td>7640</td>\n      <td>8380</td>\n      <td>8880</td>\n      <td>...</td>\n      <td>11430</td>\n      <td>8260</td>\n      <td>11460</td>\n      <td>11200</td>\n      <td>11340</td>\n      <td>7730</td>\n      <td>5360</td>\n      <td>3460</td>\n      <td>1560</td>\n      <td>380</td>\n    </tr>\n    <tr>\n      <th>...</th>\n      <td>...</td>\n      <td>...</td>\n      <td>...</td>\n      <td>...</td>\n      <td>...</td>\n      <td>...</td>\n      <td>...</td>\n      <td>...</td>\n      <td>...</td>\n      <td>...</td>\n      <td>...</td>\n      <td>...</td>\n      <td>...</td>\n      <td>...</td>\n      <td>...</td>\n      <td>...</td>\n      <td>...</td>\n      <td>...</td>\n      <td>...</td>\n      <td>...</td>\n      <td>...</td>\n    </tr>\n    <tr>\n      <th>197</th>\n      <td>Vosges</td>\n      <td>2</td>\n      <td>7340</td>\n      <td>10220</td>\n      <td>9770</td>\n      <td>7200</td>\n      <td>7410</td>\n      <td>8990</td>\n      <td>9820</td>\n      <td>10130</td>\n      <td>...</td>\n      <td>13080</td>\n      <td>9030</td>\n      <td>13660</td>\n      <td>13390</td>\n      <td>13330</td>\n      <td>8340</td>\n      <td>6890</td>\n      <td>6010</td>\n      <td>3470</td>\n      <td>1170</td>\n    </tr>\n    <tr>\n      <th>198</th>\n      <td>Yonne</td>\n      <td>1</td>\n      <td>7890</td>\n      <td>10760</td>\n      <td>10240</td>\n      <td>7570</td>\n      <td>7030</td>\n      <td>8780</td>\n      <td>9270</td>\n      <td>9510</td>\n      <td>...</td>\n      <td>11250</td>\n      <td>9350</td>\n      <td>11200</td>\n      <td>11120</td>\n      <td>11150</td>\n      <td>6710</td>\n      <td>4520</td>\n      <td>3010</td>\n      <td>1200</td>\n      <td>320</td>\n    </tr>\n    <tr>\n      <th>199</th>\n      <td>Yonne</td>\n      <td>2</td>\n      <td>7770</td>\n      <td>10120</td>\n      <td>9040</td>\n      <td>5930</td>\n      <td>6860</td>\n      <td>8770</td>\n      <td>9550</td>\n      <td>9910</td>\n      <td>...</td>\n      <td>11590</td>\n      <td>8810</td>\n      <td>12020</td>\n      <td>12120</td>\n      <td>11860</td>\n      <td>7830</td>\n      <td>6220</td>\n      <td>5380</td>\n      <td>3200</td>\n      <td>1400</td>\n    </tr>\n    <tr>\n      <th>200</th>\n      <td>Yvelines</td>\n      <td>1</td>\n      <td>45680</td>\n      <td>54170</td>\n      <td>50570</td>\n      <td>40430</td>\n      <td>38120</td>\n      <td>42150</td>\n      <td>45850</td>\n      <td>48610</td>\n      <td>...</td>\n      <td>46260</td>\n      <td>52730</td>\n      <td>38260</td>\n      <td>30540</td>\n      <td>28790</td>\n      <td>20680</td>\n      <td>14150</td>\n      <td>8960</td>\n      <td>3710</td>\n      <td>1040</td>\n    </tr>\n    <tr>\n      <th>201</th>\n      <td>Yvelines</td>\n      <td>2</td>\n      <td>43510</td>\n      <td>50850</td>\n      <td>47830</td>\n      <td>37050</td>\n      <td>37660</td>\n      <td>44860</td>\n      <td>50050</td>\n      <td>51590</td>\n      <td>...</td>\n      <td>48290</td>\n      <td>49330</td>\n      <td>41620</td>\n      <td>36010</td>\n      <td>34080</td>\n      <td>25000</td>\n      <td>19860</td>\n      <td>15120</td>\n      <td>8260</td>\n      <td>3520</td>\n    </tr>\n  </tbody>\n</table>\n<p>202 rows × 22 columns</p>\n</div>"
     },
     "execution_count": 56,
     "metadata": {},
     "output_type": "execute_result"
    }
   ],
   "source": [
    "df_pivot = df.pivot(index=['code_departement', 'SEXE'], columns='TRAGE', values='POP_2022').reset_index()\n",
    "df_pivot.columns.name = None\n",
    "df = df_pivot\n",
    "df_pivot"
   ],
   "metadata": {
    "collapsed": false
   }
  },
  {
   "cell_type": "code",
   "execution_count": 57,
   "outputs": [],
   "source": [
    "df.drop(columns=['SEXE'], inplace=True)"
   ],
   "metadata": {
    "collapsed": false
   }
  },
  {
   "cell_type": "code",
   "execution_count": 58,
   "outputs": [],
   "source": [
    "sortie = './donnees/age.csv'\n",
    "df.to_csv(sortie, index=False)"
   ],
   "metadata": {
    "collapsed": false
   }
  },
  {
   "cell_type": "code",
   "execution_count": 58,
   "outputs": [],
   "source": [],
   "metadata": {
    "collapsed": false
   }
  }
 ],
 "metadata": {
  "kernelspec": {
   "display_name": "Python 3",
   "language": "python",
   "name": "python3"
  },
  "language_info": {
   "codemirror_mode": {
    "name": "ipython",
    "version": 2
   },
   "file_extension": ".py",
   "mimetype": "text/x-python",
   "name": "python",
   "nbconvert_exporter": "python",
   "pygments_lexer": "ipython2",
   "version": "2.7.6"
  }
 },
 "nbformat": 4,
 "nbformat_minor": 0
}
